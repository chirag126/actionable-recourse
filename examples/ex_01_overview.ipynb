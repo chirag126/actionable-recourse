{
 "nbformat": 4,
 "nbformat_minor": 0,
 "metadata": {
  "kernelspec": {
   "display_name": "Python 3",
   "language": "python",
   "name": "python3"
  },
  "language_info": {
   "codemirror_mode": {
    "name": "ipython",
    "version": 3
   },
   "file_extension": ".py",
   "mimetype": "text/x-python",
   "name": "python",
   "nbconvert_exporter": "python",
   "pygments_lexer": "ipython3",
   "version": "3.7.6"
  },
  "pycharm": {
   "stem_cell": {
    "cell_type": "raw",
    "source": [],
    "metadata": {
     "collapsed": false
    }
   }
  },
  "colab": {
   "name": "CFPB Tech Sprint Demo",
   "provenance": [],
   "collapsed_sections": []
  },
  "widgets": {
   "application/vnd.jupyter.widget-state+json": {
    "1b3bd974dc6d42c0adfc197c5a7bae22": {
     "model_module": "@jupyter-widgets/controls",
     "model_name": "HBoxModel",
     "state": {
      "_view_name": "HBoxView",
      "_dom_classes": [],
      "_model_name": "HBoxModel",
      "_view_module": "@jupyter-widgets/controls",
      "_model_module_version": "1.5.0",
      "_view_count": null,
      "_view_module_version": "1.5.0",
      "box_style": "",
      "layout": "IPY_MODEL_1a127234b75a42b2ad83e7d8968783f0",
      "_model_module": "@jupyter-widgets/controls",
      "children": [
       "IPY_MODEL_ea4c022beed44fbc9dbb8994fabac7d7",
       "IPY_MODEL_bfc846fac50d48b4afdbe767f23a0a3f"
      ]
     }
    },
    "1a127234b75a42b2ad83e7d8968783f0": {
     "model_module": "@jupyter-widgets/base",
     "model_name": "LayoutModel",
     "state": {
      "_view_name": "LayoutView",
      "grid_template_rows": null,
      "right": null,
      "justify_content": null,
      "_view_module": "@jupyter-widgets/base",
      "overflow": null,
      "_model_module_version": "1.2.0",
      "_view_count": null,
      "flex_flow": null,
      "width": null,
      "min_width": null,
      "border": null,
      "align_items": null,
      "bottom": null,
      "_model_module": "@jupyter-widgets/base",
      "top": null,
      "grid_column": null,
      "overflow_y": null,
      "overflow_x": null,
      "grid_auto_flow": null,
      "grid_area": null,
      "grid_template_columns": null,
      "flex": null,
      "_model_name": "LayoutModel",
      "justify_items": null,
      "grid_row": null,
      "max_height": null,
      "align_content": null,
      "visibility": null,
      "align_self": null,
      "height": null,
      "min_height": null,
      "padding": null,
      "grid_auto_rows": null,
      "grid_gap": null,
      "max_width": null,
      "order": null,
      "_view_module_version": "1.2.0",
      "grid_template_areas": null,
      "object_position": null,
      "object_fit": null,
      "grid_auto_columns": null,
      "margin": null,
      "display": null,
      "left": null
     }
    },
    "ea4c022beed44fbc9dbb8994fabac7d7": {
     "model_module": "@jupyter-widgets/controls",
     "model_name": "FloatProgressModel",
     "state": {
      "_view_name": "ProgressView",
      "style": "IPY_MODEL_6c9fdd0b4af34bc1ac54b60ede40c451",
      "_dom_classes": [],
      "description": "100%",
      "_model_name": "FloatProgressModel",
      "bar_style": "success",
      "max": 98,
      "_view_module": "@jupyter-widgets/controls",
      "_model_module_version": "1.5.0",
      "value": 98,
      "_view_count": null,
      "_view_module_version": "1.5.0",
      "orientation": "horizontal",
      "min": 0,
      "description_tooltip": null,
      "_model_module": "@jupyter-widgets/controls",
      "layout": "IPY_MODEL_619a23735654425ca4296b6abb488b54"
     }
    },
    "bfc846fac50d48b4afdbe767f23a0a3f": {
     "model_module": "@jupyter-widgets/controls",
     "model_name": "HTMLModel",
     "state": {
      "_view_name": "HTMLView",
      "style": "IPY_MODEL_971f62536c04457eb9f504579d352b8c",
      "_dom_classes": [],
      "description": "",
      "_model_name": "HTMLModel",
      "placeholder": "​",
      "_view_module": "@jupyter-widgets/controls",
      "_model_module_version": "1.5.0",
      "value": " 98/98 [00:18&lt;00:00,  5.43it/s]",
      "_view_count": null,
      "_view_module_version": "1.5.0",
      "description_tooltip": null,
      "_model_module": "@jupyter-widgets/controls",
      "layout": "IPY_MODEL_f159d6e09f9645e0a5289f3a96b208be"
     }
    },
    "6c9fdd0b4af34bc1ac54b60ede40c451": {
     "model_module": "@jupyter-widgets/controls",
     "model_name": "ProgressStyleModel",
     "state": {
      "_view_name": "StyleView",
      "_model_name": "ProgressStyleModel",
      "description_width": "initial",
      "_view_module": "@jupyter-widgets/base",
      "_model_module_version": "1.5.0",
      "_view_count": null,
      "_view_module_version": "1.2.0",
      "bar_color": null,
      "_model_module": "@jupyter-widgets/controls"
     }
    },
    "619a23735654425ca4296b6abb488b54": {
     "model_module": "@jupyter-widgets/base",
     "model_name": "LayoutModel",
     "state": {
      "_view_name": "LayoutView",
      "grid_template_rows": null,
      "right": null,
      "justify_content": null,
      "_view_module": "@jupyter-widgets/base",
      "overflow": null,
      "_model_module_version": "1.2.0",
      "_view_count": null,
      "flex_flow": null,
      "width": null,
      "min_width": null,
      "border": null,
      "align_items": null,
      "bottom": null,
      "_model_module": "@jupyter-widgets/base",
      "top": null,
      "grid_column": null,
      "overflow_y": null,
      "overflow_x": null,
      "grid_auto_flow": null,
      "grid_area": null,
      "grid_template_columns": null,
      "flex": null,
      "_model_name": "LayoutModel",
      "justify_items": null,
      "grid_row": null,
      "max_height": null,
      "align_content": null,
      "visibility": null,
      "align_self": null,
      "height": null,
      "min_height": null,
      "padding": null,
      "grid_auto_rows": null,
      "grid_gap": null,
      "max_width": null,
      "order": null,
      "_view_module_version": "1.2.0",
      "grid_template_areas": null,
      "object_position": null,
      "object_fit": null,
      "grid_auto_columns": null,
      "margin": null,
      "display": null,
      "left": null
     }
    },
    "971f62536c04457eb9f504579d352b8c": {
     "model_module": "@jupyter-widgets/controls",
     "model_name": "DescriptionStyleModel",
     "state": {
      "_view_name": "StyleView",
      "_model_name": "DescriptionStyleModel",
      "description_width": "",
      "_view_module": "@jupyter-widgets/base",
      "_model_module_version": "1.5.0",
      "_view_count": null,
      "_view_module_version": "1.2.0",
      "_model_module": "@jupyter-widgets/controls"
     }
    },
    "f159d6e09f9645e0a5289f3a96b208be": {
     "model_module": "@jupyter-widgets/base",
     "model_name": "LayoutModel",
     "state": {
      "_view_name": "LayoutView",
      "grid_template_rows": null,
      "right": null,
      "justify_content": null,
      "_view_module": "@jupyter-widgets/base",
      "overflow": null,
      "_model_module_version": "1.2.0",
      "_view_count": null,
      "flex_flow": null,
      "width": null,
      "min_width": null,
      "border": null,
      "align_items": null,
      "bottom": null,
      "_model_module": "@jupyter-widgets/base",
      "top": null,
      "grid_column": null,
      "overflow_y": null,
      "overflow_x": null,
      "grid_auto_flow": null,
      "grid_area": null,
      "grid_template_columns": null,
      "flex": null,
      "_model_name": "LayoutModel",
      "justify_items": null,
      "grid_row": null,
      "max_height": null,
      "align_content": null,
      "visibility": null,
      "align_self": null,
      "height": null,
      "min_height": null,
      "padding": null,
      "grid_auto_rows": null,
      "grid_gap": null,
      "max_width": null,
      "order": null,
      "_view_module_version": "1.2.0",
      "grid_template_areas": null,
      "object_position": null,
      "object_fit": null,
      "grid_auto_columns": null,
      "margin": null,
      "display": null,
      "left": null
     }
    }
   }
  }
 },
 "cells": [
  {
   "cell_type": "markdown",
   "metadata": {
    "id": "BJMJtqtZUukN"
   },
   "source": [
    "In this demo, we will show how to use:\n",
    "\n",
    "1. `ActionSet` to specify how consumers can change the inputs of a machine learning model\n",
    "\n",
    "2. `Flipset` to create actionable adverse action notices for consumers who are denied loans\n",
    "\n",
    "3. `RecourseAuditor` to measure the feasibility and difficulty of recourse before deployment\n"
   ]
  },
  {
   "cell_type": "markdown",
   "metadata": {
    "id": "D9noX-YZj8jc"
   },
   "source": [
    "# Preliminaries"
   ]
  },
  {
   "cell_type": "markdown",
   "metadata": {
    "id": "kfd82rMDrMKk"
   },
   "source": [
    "You can install actionable recourse by typing:"
   ]
  },
  {
   "cell_type": "code",
   "metadata": {
    "id": "f4mfFRTiU5vM"
   },
   "source": [
    "! pip install actionable-recourse"
   ],
   "execution_count": null,
   "outputs": []
  },
  {
   "cell_type": "markdown",
   "metadata": {
    "id": "Mv4B2aU7UukP"
   },
   "source": [
    "We start by building a simple logistic regression for loan approval for the demo. \n",
    "\n",
    "We use the **default of credit card clients** dataset from the [UCI ML repository](https://archive.ics.uci.edu/ml/datasets/default+of+credit+card+clients)). \n"
   ]
  },
  {
   "cell_type": "code",
   "metadata": {
    "id": "oC-GtvFEUukP"
   },
   "source": [
    "import recourse as rs\n",
    "import numpy as np\n",
    "import pandas as pd\n",
    "from sklearn.linear_model import LogisticRegression\n",
    "from IPython.core.display import display, HTML\n",
    "pd.options.display.float_format = '{:,.3f}'.format\n",
    "\n",
    "# import data\n",
    "url = 'https://raw.githubusercontent.com/ustunb/actionable-recourse/master/examples/paper/data/credit_processed.csv'\n",
    "df = pd.read_csv(url)\n",
    "y, X = df.iloc[:, 0], df.iloc[:, 1:]\n",
    "\n",
    "# train a classifier\n",
    "clf = LogisticRegression(max_iter = 1000, C=1./1000, solver='liblinear', penalty='l1')\n",
    "clf.fit(X, y)\n",
    "yhat = clf.predict(X)"
   ],
   "execution_count": null,
   "outputs": []
  },
  {
   "cell_type": "markdown",
   "metadata": {
    "id": "yf8cC5pckgSf"
   },
   "source": [
    "The outcome variable is defined as:\n",
    "\n",
    "> y[i] = 1 if a person repays a credit card loan\n",
    "\n",
    "> y[i] = 0 if a person defaults on a credit card loan\n",
    "\n",
    "The model `clf` predicts this outcome using the following input variables and weights\n"
   ]
  },
  {
   "cell_type": "code",
   "metadata": {
    "id": "Rj-M-qpqUukX",
    "outputId": "089fe3c5-2721-4a35-9376-35d12d89e740",
    "colab": {
     "base_uri": "https://localhost:8080/",
     "height": 576
    }
   },
   "source": [
    "pd.Series(clf.coef_[0], index=X.columns).to_frame('Coefficients')"
   ],
   "execution_count": null,
   "outputs": [
    {
     "output_type": "execute_result",
     "data": {
      "text/html": [
       "<div>\n",
       "<style scoped>\n",
       "    .dataframe tbody tr th:only-of-type {\n",
       "        vertical-align: middle;\n",
       "    }\n",
       "\n",
       "    .dataframe tbody tr th {\n",
       "        vertical-align: top;\n",
       "    }\n",
       "\n",
       "    .dataframe thead th {\n",
       "        text-align: right;\n",
       "    }\n",
       "</style>\n",
       "<table border=\"1\" class=\"dataframe\">\n",
       "  <thead>\n",
       "    <tr style=\"text-align: right;\">\n",
       "      <th></th>\n",
       "      <th>Coefficients</th>\n",
       "    </tr>\n",
       "  </thead>\n",
       "  <tbody>\n",
       "    <tr>\n",
       "      <th>Married</th>\n",
       "      <td>0.000</td>\n",
       "    </tr>\n",
       "    <tr>\n",
       "      <th>Single</th>\n",
       "      <td>0.000</td>\n",
       "    </tr>\n",
       "    <tr>\n",
       "      <th>Age_lt_25</th>\n",
       "      <td>0.000</td>\n",
       "    </tr>\n",
       "    <tr>\n",
       "      <th>Age_in_25_to_40</th>\n",
       "      <td>0.000</td>\n",
       "    </tr>\n",
       "    <tr>\n",
       "      <th>Age_in_40_to_59</th>\n",
       "      <td>0.000</td>\n",
       "    </tr>\n",
       "    <tr>\n",
       "      <th>Age_geq_60</th>\n",
       "      <td>0.000</td>\n",
       "    </tr>\n",
       "    <tr>\n",
       "      <th>EducationLevel</th>\n",
       "      <td>0.332</td>\n",
       "    </tr>\n",
       "    <tr>\n",
       "      <th>MaxBillAmountOverLast6Months</th>\n",
       "      <td>0.000</td>\n",
       "    </tr>\n",
       "    <tr>\n",
       "      <th>MaxPaymentAmountOverLast6Months</th>\n",
       "      <td>0.000</td>\n",
       "    </tr>\n",
       "    <tr>\n",
       "      <th>MonthsWithZeroBalanceOverLast6Months</th>\n",
       "      <td>0.000</td>\n",
       "    </tr>\n",
       "    <tr>\n",
       "      <th>MonthsWithLowSpendingOverLast6Months</th>\n",
       "      <td>0.114</td>\n",
       "    </tr>\n",
       "    <tr>\n",
       "      <th>MonthsWithHighSpendingOverLast6Months</th>\n",
       "      <td>0.000</td>\n",
       "    </tr>\n",
       "    <tr>\n",
       "      <th>MostRecentBillAmount</th>\n",
       "      <td>-0.000</td>\n",
       "    </tr>\n",
       "    <tr>\n",
       "      <th>MostRecentPaymentAmount</th>\n",
       "      <td>0.001</td>\n",
       "    </tr>\n",
       "    <tr>\n",
       "      <th>TotalOverdueCounts</th>\n",
       "      <td>0.000</td>\n",
       "    </tr>\n",
       "    <tr>\n",
       "      <th>TotalMonthsOverdue</th>\n",
       "      <td>-0.153</td>\n",
       "    </tr>\n",
       "    <tr>\n",
       "      <th>HistoryOfOverduePayments</th>\n",
       "      <td>0.000</td>\n",
       "    </tr>\n",
       "  </tbody>\n",
       "</table>\n",
       "</div>"
      ],
      "text/plain": [
       "                                       Coefficients\n",
       "Married                                       0.000\n",
       "Single                                        0.000\n",
       "Age_lt_25                                     0.000\n",
       "Age_in_25_to_40                               0.000\n",
       "Age_in_40_to_59                               0.000\n",
       "Age_geq_60                                    0.000\n",
       "EducationLevel                                0.332\n",
       "MaxBillAmountOverLast6Months                  0.000\n",
       "MaxPaymentAmountOverLast6Months               0.000\n",
       "MonthsWithZeroBalanceOverLast6Months          0.000\n",
       "MonthsWithLowSpendingOverLast6Months          0.114\n",
       "MonthsWithHighSpendingOverLast6Months         0.000\n",
       "MostRecentBillAmount                         -0.000\n",
       "MostRecentPaymentAmount                       0.001\n",
       "TotalOverdueCounts                            0.000\n",
       "TotalMonthsOverdue                           -0.153\n",
       "HistoryOfOverduePayments                      0.000"
      ]
     },
     "metadata": {
      "tags": []
     },
     "execution_count": 11
    }
   ]
  },
  {
   "cell_type": "markdown",
   "metadata": {
    "id": "XcExqMbPUuka"
   },
   "source": [
    "# Modeling Actions with `ActionSet`"
   ]
  },
  {
   "cell_type": "markdown",
   "metadata": {
    "id": "90qM0s40ppUd"
   },
   "source": [
    "The first step for any recourse-related analysis is to how individuals can change the input variables to a model – i.e., the set of feasible **actions.** We created `ActionSet` to make this as easy as possible for practitioners. "
   ]
  },
  {
   "cell_type": "markdown",
   "metadata": {
    "id": "PjddwNZKtkw6"
   },
   "source": [
    "Specifying action for each variable can take time. `ActionSet` can speed it up, by infering information from a sample of points."
   ]
  },
  {
   "cell_type": "code",
   "metadata": {
    "id": "T6HNSGEBUukb",
    "outputId": "b578172c-6b76-4785-fca4-f5d9416a4183",
    "colab": {
     "base_uri": "https://localhost:8080/"
    }
   },
   "source": [
    "A = rs.ActionSet(X) \n",
    "print(A)"
   ],
   "execution_count": null,
   "outputs": [
    {
     "output_type": "stream",
     "text": [
      "+---------------------------------------+----------------+------------+------------+----------------+----------------+-----------+-----------+-----------+-----+---------+\n",
      "|                                  name |  variable type | actionable | compatible | step direction | flip direction | grid size | step type | step size |  lb |      ub |\n",
      "+---------------------------------------+----------------+------------+------------+----------------+----------------+-----------+-----------+-----------+-----+---------+\n",
      "|                               Married | <class 'bool'> |       True |        nan |              0 |            nan |         2 |  absolute |       1.0 | 0.0 |     1.0 |\n",
      "|                                Single | <class 'bool'> |       True |        nan |              0 |            nan |         2 |  absolute |       1.0 | 0.0 |     1.0 |\n",
      "|                             Age_lt_25 | <class 'bool'> |       True |        nan |              0 |            nan |         2 |  absolute |       1.0 | 0.0 |     1.0 |\n",
      "|                       Age_in_25_to_40 | <class 'bool'> |       True |        nan |              0 |            nan |         2 |  absolute |       1.0 | 0.0 |     1.0 |\n",
      "|                       Age_in_40_to_59 | <class 'bool'> |       True |        nan |              0 |            nan |         2 |  absolute |       1.0 | 0.0 |     1.0 |\n",
      "|                            Age_geq_60 | <class 'bool'> |       True |        nan |              0 |            nan |         2 |  absolute |       1.0 | 0.0 |     1.0 |\n",
      "|                        EducationLevel |  <class 'int'> |       True |        nan |              0 |            nan |         4 |  relative |      0.01 | 0.0 |     3.0 |\n",
      "|          MaxBillAmountOverLast6Months |  <class 'int'> |       True |        nan |              0 |            nan |       101 |  relative |      0.01 | 0.0 | 11321.0 |\n",
      "|       MaxPaymentAmountOverLast6Months |  <class 'int'> |       True |        nan |              0 |            nan |       101 |  relative |      0.01 | 0.0 |  5480.0 |\n",
      "|  MonthsWithZeroBalanceOverLast6Months |  <class 'int'> |       True |        nan |              0 |            nan |         5 |  relative |      0.01 | 0.0 |     4.0 |\n",
      "|  MonthsWithLowSpendingOverLast6Months |  <class 'int'> |       True |        nan |              0 |            nan |         7 |  relative |      0.01 | 0.0 |     6.0 |\n",
      "| MonthsWithHighSpendingOverLast6Months |  <class 'int'> |       True |        nan |              0 |            nan |         7 |  relative |      0.01 | 0.0 |     6.0 |\n",
      "|                  MostRecentBillAmount |  <class 'int'> |       True |        nan |              0 |            nan |       101 |  relative |      0.01 | 0.0 | 10690.0 |\n",
      "|               MostRecentPaymentAmount |  <class 'int'> |       True |        nan |              0 |            nan |        98 |  relative |      0.01 | 0.0 |  2031.0 |\n",
      "|                    TotalOverdueCounts |  <class 'int'> |       True |        nan |              0 |            nan |         3 |  relative |      0.01 | 0.0 |     2.0 |\n",
      "|                    TotalMonthsOverdue |  <class 'int'> |       True |        nan |              0 |            nan |        16 |  relative |      0.01 | 0.0 |    15.0 |\n",
      "|              HistoryOfOverduePayments | <class 'bool'> |       True |        nan |              0 |            nan |         2 |  absolute |       1.0 | 0.0 |     1.0 |\n",
      "+---------------------------------------+----------------+------------+------------+----------------+----------------+-----------+-----------+-----------+-----+---------+\n"
     ],
     "name": "stdout"
    }
   ]
  },
  {
   "cell_type": "markdown",
   "metadata": {
    "id": "a4gHkgcrt82t"
   },
   "source": [
    "Users can then customize variables using familiar API commands\n"
   ]
  },
  {
   "cell_type": "code",
   "metadata": {
    "id": "muHdcjGTt_MF",
    "outputId": "108b988a-1e76-4cfd-b7df-7c4b8dfe3a0d",
    "colab": {
     "base_uri": "https://localhost:8080/"
    }
   },
   "source": [
    "# Variables that can't be changed\n",
    "A['Married'].actionable = False\n",
    "A[['Age_lt_25', 'Age_in_25_to_40', 'Age_in_40_to_59', 'Age_geq_60']].actionable = False\n",
    "A[['TotalMonthsOverdue', 'TotalOverdueCounts', 'HistoryOfOverduePayments']].actionable = False\n",
    "print(A)"
   ],
   "execution_count": null,
   "outputs": [
    {
     "output_type": "stream",
     "text": [
      "+---------------------------------------+----------------+------------+------------+----------------+----------------+-----------+-----------+-----------+-----+---------+\n",
      "|                                  name |  variable type | actionable | compatible | step direction | flip direction | grid size | step type | step size |  lb |      ub |\n",
      "+---------------------------------------+----------------+------------+------------+----------------+----------------+-----------+-----------+-----------+-----+---------+\n",
      "|                               Married | <class 'bool'> |      False |        nan |              0 |            nan |         2 |  absolute |       1.0 | 0.0 |     1.0 |\n",
      "|                                Single | <class 'bool'> |       True |        nan |              0 |            nan |         2 |  absolute |       1.0 | 0.0 |     1.0 |\n",
      "|                             Age_lt_25 | <class 'bool'> |      False |        nan |              0 |            nan |         2 |  absolute |       1.0 | 0.0 |     1.0 |\n",
      "|                       Age_in_25_to_40 | <class 'bool'> |      False |        nan |              0 |            nan |         2 |  absolute |       1.0 | 0.0 |     1.0 |\n",
      "|                       Age_in_40_to_59 | <class 'bool'> |      False |        nan |              0 |            nan |         2 |  absolute |       1.0 | 0.0 |     1.0 |\n",
      "|                            Age_geq_60 | <class 'bool'> |      False |        nan |              0 |            nan |         2 |  absolute |       1.0 | 0.0 |     1.0 |\n",
      "|                        EducationLevel |  <class 'int'> |       True |        nan |              0 |            nan |         4 |  relative |      0.01 | 0.0 |     3.0 |\n",
      "|          MaxBillAmountOverLast6Months |  <class 'int'> |       True |        nan |              0 |            nan |       101 |  relative |      0.01 | 0.0 | 11321.0 |\n",
      "|       MaxPaymentAmountOverLast6Months |  <class 'int'> |       True |        nan |              0 |            nan |       101 |  relative |      0.01 | 0.0 |  5480.0 |\n",
      "|  MonthsWithZeroBalanceOverLast6Months |  <class 'int'> |       True |        nan |              0 |            nan |         5 |  relative |      0.01 | 0.0 |     4.0 |\n",
      "|  MonthsWithLowSpendingOverLast6Months |  <class 'int'> |       True |        nan |              0 |            nan |         7 |  relative |      0.01 | 0.0 |     6.0 |\n",
      "| MonthsWithHighSpendingOverLast6Months |  <class 'int'> |       True |        nan |              0 |            nan |         7 |  relative |      0.01 | 0.0 |     6.0 |\n",
      "|                  MostRecentBillAmount |  <class 'int'> |       True |        nan |              0 |            nan |       101 |  relative |      0.01 | 0.0 | 10690.0 |\n",
      "|               MostRecentPaymentAmount |  <class 'int'> |       True |        nan |              0 |            nan |        98 |  relative |      0.01 | 0.0 |  2031.0 |\n",
      "|                    TotalOverdueCounts |  <class 'int'> |      False |        nan |              0 |            nan |         3 |  relative |      0.01 | 0.0 |     2.0 |\n",
      "|                    TotalMonthsOverdue |  <class 'int'> |      False |        nan |              0 |            nan |        16 |  relative |      0.01 | 0.0 |    15.0 |\n",
      "|              HistoryOfOverduePayments | <class 'bool'> |      False |        nan |              0 |            nan |         2 |  absolute |       1.0 | 0.0 |     1.0 |\n",
      "+---------------------------------------+----------------+------------+------------+----------------+----------------+-----------+-----------+-----------+-----+---------+\n"
     ],
     "name": "stdout"
    }
   ]
  },
  {
   "cell_type": "code",
   "metadata": {
    "id": "U3aFjvF7usUC"
   },
   "source": [
    "# EducationLevel takes values from (0, 3), can be changed in increments of 1, and must increase\n",
    "A['EducationLevel'].bounds = (0, 3)\n",
    "A['EducationLevel'].step_size = 1\n",
    "A['EducationLevel'].step_type = \"absolute\" \n",
    "A['EducationLevel'].step_direction = 1 \n",
    "\n",
    "# TotalMonthsOverview takes values between 0 to 12, can only increase by 1 month, and must increase\n",
    "A['TotalMonthsOverdue'].bounds = (0, 12)\n",
    "A['TotalMonthsOverdue'].step_size = 1  \n",
    "A['TotalMonthsOverdue'].step_type = \"absolute\"  \n",
    "\n",
    "# \n",
    "#A['MonthsWithLowSpendingOverLast6Months'].bounds = (0, 4)\n"
   ],
   "execution_count": null,
   "outputs": []
  },
  {
   "cell_type": "code",
   "metadata": {
    "scrolled": false,
    "id": "n67NhB_2Uuke",
    "outputId": "fbe63ffb-d638-412a-d217-200849d5cdaa",
    "colab": {
     "base_uri": "https://localhost:8080/"
    }
   },
   "source": [
    "A.df[['name', 'actionable', 'lb', 'ub']].assign(lb=lambda df: df['lb'].astype(int)).assign(ub=lambda df: df['ub'].astype(int)).style.hide_index()"
   ],
   "execution_count": null,
   "outputs": [
    {
     "output_type": "execute_result",
     "data": {
      "text/html": [
       "<style  type=\"text/css\" >\n",
       "</style><table id=\"T_148014ca_0a3b_11eb_ad0b_0242ac1c0002\" ><thead>    <tr>        <th class=\"col_heading level0 col0\" >name</th>        <th class=\"col_heading level0 col1\" >actionable</th>        <th class=\"col_heading level0 col2\" >lb</th>        <th class=\"col_heading level0 col3\" >ub</th>    </tr></thead><tbody>\n",
       "                <tr>\n",
       "                                <td id=\"T_148014ca_0a3b_11eb_ad0b_0242ac1c0002row0_col0\" class=\"data row0 col0\" >Married</td>\n",
       "                        <td id=\"T_148014ca_0a3b_11eb_ad0b_0242ac1c0002row0_col1\" class=\"data row0 col1\" >False</td>\n",
       "                        <td id=\"T_148014ca_0a3b_11eb_ad0b_0242ac1c0002row0_col2\" class=\"data row0 col2\" >0</td>\n",
       "                        <td id=\"T_148014ca_0a3b_11eb_ad0b_0242ac1c0002row0_col3\" class=\"data row0 col3\" >1</td>\n",
       "            </tr>\n",
       "            <tr>\n",
       "                                <td id=\"T_148014ca_0a3b_11eb_ad0b_0242ac1c0002row1_col0\" class=\"data row1 col0\" >Single</td>\n",
       "                        <td id=\"T_148014ca_0a3b_11eb_ad0b_0242ac1c0002row1_col1\" class=\"data row1 col1\" >True</td>\n",
       "                        <td id=\"T_148014ca_0a3b_11eb_ad0b_0242ac1c0002row1_col2\" class=\"data row1 col2\" >0</td>\n",
       "                        <td id=\"T_148014ca_0a3b_11eb_ad0b_0242ac1c0002row1_col3\" class=\"data row1 col3\" >1</td>\n",
       "            </tr>\n",
       "            <tr>\n",
       "                                <td id=\"T_148014ca_0a3b_11eb_ad0b_0242ac1c0002row2_col0\" class=\"data row2 col0\" >Age_lt_25</td>\n",
       "                        <td id=\"T_148014ca_0a3b_11eb_ad0b_0242ac1c0002row2_col1\" class=\"data row2 col1\" >False</td>\n",
       "                        <td id=\"T_148014ca_0a3b_11eb_ad0b_0242ac1c0002row2_col2\" class=\"data row2 col2\" >0</td>\n",
       "                        <td id=\"T_148014ca_0a3b_11eb_ad0b_0242ac1c0002row2_col3\" class=\"data row2 col3\" >1</td>\n",
       "            </tr>\n",
       "            <tr>\n",
       "                                <td id=\"T_148014ca_0a3b_11eb_ad0b_0242ac1c0002row3_col0\" class=\"data row3 col0\" >Age_in_25_to_40</td>\n",
       "                        <td id=\"T_148014ca_0a3b_11eb_ad0b_0242ac1c0002row3_col1\" class=\"data row3 col1\" >False</td>\n",
       "                        <td id=\"T_148014ca_0a3b_11eb_ad0b_0242ac1c0002row3_col2\" class=\"data row3 col2\" >0</td>\n",
       "                        <td id=\"T_148014ca_0a3b_11eb_ad0b_0242ac1c0002row3_col3\" class=\"data row3 col3\" >1</td>\n",
       "            </tr>\n",
       "            <tr>\n",
       "                                <td id=\"T_148014ca_0a3b_11eb_ad0b_0242ac1c0002row4_col0\" class=\"data row4 col0\" >Age_in_40_to_59</td>\n",
       "                        <td id=\"T_148014ca_0a3b_11eb_ad0b_0242ac1c0002row4_col1\" class=\"data row4 col1\" >False</td>\n",
       "                        <td id=\"T_148014ca_0a3b_11eb_ad0b_0242ac1c0002row4_col2\" class=\"data row4 col2\" >0</td>\n",
       "                        <td id=\"T_148014ca_0a3b_11eb_ad0b_0242ac1c0002row4_col3\" class=\"data row4 col3\" >1</td>\n",
       "            </tr>\n",
       "            <tr>\n",
       "                                <td id=\"T_148014ca_0a3b_11eb_ad0b_0242ac1c0002row5_col0\" class=\"data row5 col0\" >Age_geq_60</td>\n",
       "                        <td id=\"T_148014ca_0a3b_11eb_ad0b_0242ac1c0002row5_col1\" class=\"data row5 col1\" >False</td>\n",
       "                        <td id=\"T_148014ca_0a3b_11eb_ad0b_0242ac1c0002row5_col2\" class=\"data row5 col2\" >0</td>\n",
       "                        <td id=\"T_148014ca_0a3b_11eb_ad0b_0242ac1c0002row5_col3\" class=\"data row5 col3\" >1</td>\n",
       "            </tr>\n",
       "            <tr>\n",
       "                                <td id=\"T_148014ca_0a3b_11eb_ad0b_0242ac1c0002row6_col0\" class=\"data row6 col0\" >EducationLevel</td>\n",
       "                        <td id=\"T_148014ca_0a3b_11eb_ad0b_0242ac1c0002row6_col1\" class=\"data row6 col1\" >True</td>\n",
       "                        <td id=\"T_148014ca_0a3b_11eb_ad0b_0242ac1c0002row6_col2\" class=\"data row6 col2\" >0</td>\n",
       "                        <td id=\"T_148014ca_0a3b_11eb_ad0b_0242ac1c0002row6_col3\" class=\"data row6 col3\" >3</td>\n",
       "            </tr>\n",
       "            <tr>\n",
       "                                <td id=\"T_148014ca_0a3b_11eb_ad0b_0242ac1c0002row7_col0\" class=\"data row7 col0\" >MaxBillAmountOverLast6Months</td>\n",
       "                        <td id=\"T_148014ca_0a3b_11eb_ad0b_0242ac1c0002row7_col1\" class=\"data row7 col1\" >True</td>\n",
       "                        <td id=\"T_148014ca_0a3b_11eb_ad0b_0242ac1c0002row7_col2\" class=\"data row7 col2\" >0</td>\n",
       "                        <td id=\"T_148014ca_0a3b_11eb_ad0b_0242ac1c0002row7_col3\" class=\"data row7 col3\" >11321</td>\n",
       "            </tr>\n",
       "            <tr>\n",
       "                                <td id=\"T_148014ca_0a3b_11eb_ad0b_0242ac1c0002row8_col0\" class=\"data row8 col0\" >MaxPaymentAmountOverLast6Months</td>\n",
       "                        <td id=\"T_148014ca_0a3b_11eb_ad0b_0242ac1c0002row8_col1\" class=\"data row8 col1\" >True</td>\n",
       "                        <td id=\"T_148014ca_0a3b_11eb_ad0b_0242ac1c0002row8_col2\" class=\"data row8 col2\" >0</td>\n",
       "                        <td id=\"T_148014ca_0a3b_11eb_ad0b_0242ac1c0002row8_col3\" class=\"data row8 col3\" >5480</td>\n",
       "            </tr>\n",
       "            <tr>\n",
       "                                <td id=\"T_148014ca_0a3b_11eb_ad0b_0242ac1c0002row9_col0\" class=\"data row9 col0\" >MonthsWithZeroBalanceOverLast6Months</td>\n",
       "                        <td id=\"T_148014ca_0a3b_11eb_ad0b_0242ac1c0002row9_col1\" class=\"data row9 col1\" >True</td>\n",
       "                        <td id=\"T_148014ca_0a3b_11eb_ad0b_0242ac1c0002row9_col2\" class=\"data row9 col2\" >0</td>\n",
       "                        <td id=\"T_148014ca_0a3b_11eb_ad0b_0242ac1c0002row9_col3\" class=\"data row9 col3\" >4</td>\n",
       "            </tr>\n",
       "            <tr>\n",
       "                                <td id=\"T_148014ca_0a3b_11eb_ad0b_0242ac1c0002row10_col0\" class=\"data row10 col0\" >MonthsWithLowSpendingOverLast6Months</td>\n",
       "                        <td id=\"T_148014ca_0a3b_11eb_ad0b_0242ac1c0002row10_col1\" class=\"data row10 col1\" >True</td>\n",
       "                        <td id=\"T_148014ca_0a3b_11eb_ad0b_0242ac1c0002row10_col2\" class=\"data row10 col2\" >0</td>\n",
       "                        <td id=\"T_148014ca_0a3b_11eb_ad0b_0242ac1c0002row10_col3\" class=\"data row10 col3\" >6</td>\n",
       "            </tr>\n",
       "            <tr>\n",
       "                                <td id=\"T_148014ca_0a3b_11eb_ad0b_0242ac1c0002row11_col0\" class=\"data row11 col0\" >MonthsWithHighSpendingOverLast6Months</td>\n",
       "                        <td id=\"T_148014ca_0a3b_11eb_ad0b_0242ac1c0002row11_col1\" class=\"data row11 col1\" >True</td>\n",
       "                        <td id=\"T_148014ca_0a3b_11eb_ad0b_0242ac1c0002row11_col2\" class=\"data row11 col2\" >0</td>\n",
       "                        <td id=\"T_148014ca_0a3b_11eb_ad0b_0242ac1c0002row11_col3\" class=\"data row11 col3\" >6</td>\n",
       "            </tr>\n",
       "            <tr>\n",
       "                                <td id=\"T_148014ca_0a3b_11eb_ad0b_0242ac1c0002row12_col0\" class=\"data row12 col0\" >MostRecentBillAmount</td>\n",
       "                        <td id=\"T_148014ca_0a3b_11eb_ad0b_0242ac1c0002row12_col1\" class=\"data row12 col1\" >True</td>\n",
       "                        <td id=\"T_148014ca_0a3b_11eb_ad0b_0242ac1c0002row12_col2\" class=\"data row12 col2\" >0</td>\n",
       "                        <td id=\"T_148014ca_0a3b_11eb_ad0b_0242ac1c0002row12_col3\" class=\"data row12 col3\" >10690</td>\n",
       "            </tr>\n",
       "            <tr>\n",
       "                                <td id=\"T_148014ca_0a3b_11eb_ad0b_0242ac1c0002row13_col0\" class=\"data row13 col0\" >MostRecentPaymentAmount</td>\n",
       "                        <td id=\"T_148014ca_0a3b_11eb_ad0b_0242ac1c0002row13_col1\" class=\"data row13 col1\" >True</td>\n",
       "                        <td id=\"T_148014ca_0a3b_11eb_ad0b_0242ac1c0002row13_col2\" class=\"data row13 col2\" >0</td>\n",
       "                        <td id=\"T_148014ca_0a3b_11eb_ad0b_0242ac1c0002row13_col3\" class=\"data row13 col3\" >2031</td>\n",
       "            </tr>\n",
       "            <tr>\n",
       "                                <td id=\"T_148014ca_0a3b_11eb_ad0b_0242ac1c0002row14_col0\" class=\"data row14 col0\" >TotalOverdueCounts</td>\n",
       "                        <td id=\"T_148014ca_0a3b_11eb_ad0b_0242ac1c0002row14_col1\" class=\"data row14 col1\" >False</td>\n",
       "                        <td id=\"T_148014ca_0a3b_11eb_ad0b_0242ac1c0002row14_col2\" class=\"data row14 col2\" >0</td>\n",
       "                        <td id=\"T_148014ca_0a3b_11eb_ad0b_0242ac1c0002row14_col3\" class=\"data row14 col3\" >2</td>\n",
       "            </tr>\n",
       "            <tr>\n",
       "                                <td id=\"T_148014ca_0a3b_11eb_ad0b_0242ac1c0002row15_col0\" class=\"data row15 col0\" >TotalMonthsOverdue</td>\n",
       "                        <td id=\"T_148014ca_0a3b_11eb_ad0b_0242ac1c0002row15_col1\" class=\"data row15 col1\" >False</td>\n",
       "                        <td id=\"T_148014ca_0a3b_11eb_ad0b_0242ac1c0002row15_col2\" class=\"data row15 col2\" >0</td>\n",
       "                        <td id=\"T_148014ca_0a3b_11eb_ad0b_0242ac1c0002row15_col3\" class=\"data row15 col3\" >12</td>\n",
       "            </tr>\n",
       "            <tr>\n",
       "                                <td id=\"T_148014ca_0a3b_11eb_ad0b_0242ac1c0002row16_col0\" class=\"data row16 col0\" >HistoryOfOverduePayments</td>\n",
       "                        <td id=\"T_148014ca_0a3b_11eb_ad0b_0242ac1c0002row16_col1\" class=\"data row16 col1\" >False</td>\n",
       "                        <td id=\"T_148014ca_0a3b_11eb_ad0b_0242ac1c0002row16_col2\" class=\"data row16 col2\" >0</td>\n",
       "                        <td id=\"T_148014ca_0a3b_11eb_ad0b_0242ac1c0002row16_col3\" class=\"data row16 col3\" >1</td>\n",
       "            </tr>\n",
       "    </tbody></table>"
      ],
      "text/plain": [
       "<pandas.io.formats.style.Styler at 0x7fc85582cda0>"
      ]
     },
     "metadata": {
      "tags": []
     },
     "execution_count": 27
    }
   ]
  },
  {
   "cell_type": "markdown",
   "metadata": {
    "id": "8P4kAk8ZlLzH"
   },
   "source": [
    "# Generating Actionable Adverse Action Notices with `Flipset`"
   ]
  },
  {
   "cell_type": "markdown",
   "metadata": {
    "id": "F--vr1Zwldi-"
   },
   "source": [
    "When our model is deployed, it will deny loans whenever `clf.predict(x) = 0`. This is the case for person i = 13"
   ]
  },
  {
   "cell_type": "code",
   "metadata": {
    "id": "XnrEUwViUukh",
    "outputId": "82452a9d-6653-4ca8-fc21-f209e5c1d5b9",
    "colab": {
     "base_uri": "https://localhost:8080/",
     "height": 34
    }
   },
   "source": [
    "x = X.values[[13]]\n",
    "print('yhat[i] = %d' % clf.predict(x)[0])"
   ],
   "execution_count": null,
   "outputs": [
    {
     "output_type": "stream",
     "text": [
      "yhat[i] = 0\n"
     ],
     "name": "stdout"
    }
   ]
  },
  {
   "cell_type": "markdown",
   "metadata": {
    "id": "Q7sYM0HWnFM3"
   },
   "source": [
    "In this case, we can search for actions in an `ActionSet` that would allow the  applicant to change their prediction. We collect actions that change different feature combinations with a `Flipset`. This runs *very* quickly"
   ]
  },
  {
   "cell_type": "code",
   "metadata": {
    "scrolled": false,
    "id": "Got7zgJgUukk",
    "outputId": "342f05bc-f454-4905-fa24-322b708961d0",
    "colab": {
     "base_uri": "https://localhost:8080/",
     "height": 34
    }
   },
   "source": [
    "fs = rs.Flipset(x, action_set = A, clf = clf)\n",
    "fs.populate(enumeration_type = 'distinct_subsets', total_items = 5);"
   ],
   "execution_count": null,
   "outputs": [
    {
     "output_type": "stream",
     "text": [
      "obtained 5 items in 0.1 seconds\n"
     ],
     "name": "stdout"
    }
   ]
  },
  {
   "cell_type": "markdown",
   "metadata": {
    "id": "glfZbKHqxQUE"
   },
   "source": [
    "We can then easily print these items into a table that can be shown to a consumer with the Flipset.to_html command:"
   ]
  },
  {
   "cell_type": "code",
   "metadata": {
    "id": "p2TCxagIUukx",
    "outputId": "862dfff4-3525-4b04-9750-6f5f0cacf94b",
    "colab": {
     "base_uri": "https://localhost:8080/",
     "height": 208
    }
   },
   "source": [
    "display(HTML(fs.to_html()))"
   ],
   "execution_count": null,
   "outputs": [
    {
     "output_type": "display_data",
     "data": {
      "text/html": [
       "<style  type=\"text/css\" >\n",
       "    #T_0b1d8be6_0a3c_11eb_ad0b_0242ac1c0002 tr {\n",
       "          background-color: white;\n",
       "    }#T_0b1d8be6_0a3c_11eb_ad0b_0242ac1c0002row0_col0,#T_0b1d8be6_0a3c_11eb_ad0b_0242ac1c0002row0_col1,#T_0b1d8be6_0a3c_11eb_ad0b_0242ac1c0002row0_col2,#T_0b1d8be6_0a3c_11eb_ad0b_0242ac1c0002row0_col3,#T_0b1d8be6_0a3c_11eb_ad0b_0242ac1c0002row3_col0,#T_0b1d8be6_0a3c_11eb_ad0b_0242ac1c0002row3_col1,#T_0b1d8be6_0a3c_11eb_ad0b_0242ac1c0002row3_col2,#T_0b1d8be6_0a3c_11eb_ad0b_0242ac1c0002row3_col3,#T_0b1d8be6_0a3c_11eb_ad0b_0242ac1c0002row4_col0,#T_0b1d8be6_0a3c_11eb_ad0b_0242ac1c0002row4_col1,#T_0b1d8be6_0a3c_11eb_ad0b_0242ac1c0002row4_col2,#T_0b1d8be6_0a3c_11eb_ad0b_0242ac1c0002row4_col3,#T_0b1d8be6_0a3c_11eb_ad0b_0242ac1c0002row7_col0,#T_0b1d8be6_0a3c_11eb_ad0b_0242ac1c0002row7_col1,#T_0b1d8be6_0a3c_11eb_ad0b_0242ac1c0002row7_col2,#T_0b1d8be6_0a3c_11eb_ad0b_0242ac1c0002row7_col3{\n",
       "            background-color:  #e2efd8;\n",
       "        }#T_0b1d8be6_0a3c_11eb_ad0b_0242ac1c0002row1_col0,#T_0b1d8be6_0a3c_11eb_ad0b_0242ac1c0002row1_col1,#T_0b1d8be6_0a3c_11eb_ad0b_0242ac1c0002row1_col2,#T_0b1d8be6_0a3c_11eb_ad0b_0242ac1c0002row1_col3,#T_0b1d8be6_0a3c_11eb_ad0b_0242ac1c0002row2_col0,#T_0b1d8be6_0a3c_11eb_ad0b_0242ac1c0002row2_col1,#T_0b1d8be6_0a3c_11eb_ad0b_0242ac1c0002row2_col2,#T_0b1d8be6_0a3c_11eb_ad0b_0242ac1c0002row2_col3,#T_0b1d8be6_0a3c_11eb_ad0b_0242ac1c0002row5_col0,#T_0b1d8be6_0a3c_11eb_ad0b_0242ac1c0002row5_col1,#T_0b1d8be6_0a3c_11eb_ad0b_0242ac1c0002row5_col2,#T_0b1d8be6_0a3c_11eb_ad0b_0242ac1c0002row5_col3,#T_0b1d8be6_0a3c_11eb_ad0b_0242ac1c0002row6_col0,#T_0b1d8be6_0a3c_11eb_ad0b_0242ac1c0002row6_col1,#T_0b1d8be6_0a3c_11eb_ad0b_0242ac1c0002row6_col2,#T_0b1d8be6_0a3c_11eb_ad0b_0242ac1c0002row6_col3{\n",
       "            background-color:  white;\n",
       "        }</style><table id=\"T_0b1d8be6_0a3c_11eb_ad0b_0242ac1c0002\" ><thead>    <tr>        <th class=\"col_heading level0 col0\" >Features to Change</th>        <th class=\"col_heading level0 col1\" >Current Value</th>        <th class=\"col_heading level0 col2\" >to</th>        <th class=\"col_heading level0 col3\" >Required Value</th>    </tr></thead><tbody>\n",
       "                <tr>\n",
       "                                        <td id=\"T_0b1d8be6_0a3c_11eb_ad0b_0242ac1c0002row0_col0\" class=\"data row0 col0\" >MaxBillAmountOverLast6Months</td>\n",
       "                        <td id=\"T_0b1d8be6_0a3c_11eb_ad0b_0242ac1c0002row0_col1\" class=\"data row0 col1\" >2060</td>\n",
       "                        <td id=\"T_0b1d8be6_0a3c_11eb_ad0b_0242ac1c0002row0_col2\" class=\"data row0 col2\" >&#8594;</td>\n",
       "                        <td id=\"T_0b1d8be6_0a3c_11eb_ad0b_0242ac1c0002row0_col3\" class=\"data row0 col3\" >2166</td>\n",
       "            </tr>\n",
       "            <tr>\n",
       "                                        <td id=\"T_0b1d8be6_0a3c_11eb_ad0b_0242ac1c0002row1_col0\" class=\"data row1 col0\" >MaxBillAmountOverLast6Months</td>\n",
       "                        <td id=\"T_0b1d8be6_0a3c_11eb_ad0b_0242ac1c0002row1_col1\" class=\"data row1 col1\" >2060</td>\n",
       "                        <td id=\"T_0b1d8be6_0a3c_11eb_ad0b_0242ac1c0002row1_col2\" class=\"data row1 col2\" >&#8594;</td>\n",
       "                        <td id=\"T_0b1d8be6_0a3c_11eb_ad0b_0242ac1c0002row1_col3\" class=\"data row1 col3\" >2166</td>\n",
       "            </tr>\n",
       "            <tr>\n",
       "                                        <td id=\"T_0b1d8be6_0a3c_11eb_ad0b_0242ac1c0002row2_col0\" class=\"data row2 col0\" >MaxPaymentAmountOverLast6Months</td>\n",
       "                        <td id=\"T_0b1d8be6_0a3c_11eb_ad0b_0242ac1c0002row2_col1\" class=\"data row2 col1\" >100</td>\n",
       "                        <td id=\"T_0b1d8be6_0a3c_11eb_ad0b_0242ac1c0002row2_col2\" class=\"data row2 col2\" >&#8594;</td>\n",
       "                        <td id=\"T_0b1d8be6_0a3c_11eb_ad0b_0242ac1c0002row2_col3\" class=\"data row2 col3\" >110</td>\n",
       "            </tr>\n",
       "            <tr>\n",
       "                                        <td id=\"T_0b1d8be6_0a3c_11eb_ad0b_0242ac1c0002row3_col0\" class=\"data row3 col0\" >MaxBillAmountOverLast6Months</td>\n",
       "                        <td id=\"T_0b1d8be6_0a3c_11eb_ad0b_0242ac1c0002row3_col1\" class=\"data row3 col1\" >2060</td>\n",
       "                        <td id=\"T_0b1d8be6_0a3c_11eb_ad0b_0242ac1c0002row3_col2\" class=\"data row3 col2\" >&#8594;</td>\n",
       "                        <td id=\"T_0b1d8be6_0a3c_11eb_ad0b_0242ac1c0002row3_col3\" class=\"data row3 col3\" >2166</td>\n",
       "            </tr>\n",
       "            <tr>\n",
       "                                        <td id=\"T_0b1d8be6_0a3c_11eb_ad0b_0242ac1c0002row4_col0\" class=\"data row4 col0\" >MostRecentBillAmount</td>\n",
       "                        <td id=\"T_0b1d8be6_0a3c_11eb_ad0b_0242ac1c0002row4_col1\" class=\"data row4 col1\" >2010</td>\n",
       "                        <td id=\"T_0b1d8be6_0a3c_11eb_ad0b_0242ac1c0002row4_col2\" class=\"data row4 col2\" >&#8594;</td>\n",
       "                        <td id=\"T_0b1d8be6_0a3c_11eb_ad0b_0242ac1c0002row4_col3\" class=\"data row4 col3\" >1926</td>\n",
       "            </tr>\n",
       "            <tr>\n",
       "                                        <td id=\"T_0b1d8be6_0a3c_11eb_ad0b_0242ac1c0002row5_col0\" class=\"data row5 col0\" >MaxBillAmountOverLast6Months</td>\n",
       "                        <td id=\"T_0b1d8be6_0a3c_11eb_ad0b_0242ac1c0002row5_col1\" class=\"data row5 col1\" >2060</td>\n",
       "                        <td id=\"T_0b1d8be6_0a3c_11eb_ad0b_0242ac1c0002row5_col2\" class=\"data row5 col2\" >&#8594;</td>\n",
       "                        <td id=\"T_0b1d8be6_0a3c_11eb_ad0b_0242ac1c0002row5_col3\" class=\"data row5 col3\" >2166</td>\n",
       "            </tr>\n",
       "            <tr>\n",
       "                                        <td id=\"T_0b1d8be6_0a3c_11eb_ad0b_0242ac1c0002row6_col0\" class=\"data row6 col0\" >MostRecentPaymentAmount</td>\n",
       "                        <td id=\"T_0b1d8be6_0a3c_11eb_ad0b_0242ac1c0002row6_col1\" class=\"data row6 col1\" >100</td>\n",
       "                        <td id=\"T_0b1d8be6_0a3c_11eb_ad0b_0242ac1c0002row6_col2\" class=\"data row6 col2\" >&#8594;</td>\n",
       "                        <td id=\"T_0b1d8be6_0a3c_11eb_ad0b_0242ac1c0002row6_col3\" class=\"data row6 col3\" >105</td>\n",
       "            </tr>\n",
       "            <tr>\n",
       "                                        <td id=\"T_0b1d8be6_0a3c_11eb_ad0b_0242ac1c0002row7_col0\" class=\"data row7 col0\" >MonthsWithLowSpendingOverLast6Months</td>\n",
       "                        <td id=\"T_0b1d8be6_0a3c_11eb_ad0b_0242ac1c0002row7_col1\" class=\"data row7 col1\" >0</td>\n",
       "                        <td id=\"T_0b1d8be6_0a3c_11eb_ad0b_0242ac1c0002row7_col2\" class=\"data row7 col2\" >&#8594;</td>\n",
       "                        <td id=\"T_0b1d8be6_0a3c_11eb_ad0b_0242ac1c0002row7_col3\" class=\"data row7 col3\" >1</td>\n",
       "            </tr>\n",
       "    </tbody></table>"
      ],
      "text/plain": [
       "<IPython.core.display.HTML object>"
      ]
     },
     "metadata": {
      "tags": []
     }
    }
   ]
  },
  {
   "cell_type": "markdown",
   "metadata": {
    "id": "2i-VmUv7xjaR"
   },
   "source": [
    "`Flipset` is designed to search over all possible actions for a consumer. When `Flipset` does not find an action for a person, then this is definitive proof that the person does not have recourse.\n"
   ]
  },
  {
   "cell_type": "code",
   "metadata": {
    "scrolled": true,
    "id": "Ircs0MWSUukz",
    "outputId": "5fb6f4eb-d497-46d0-c6ba-909dc9dff62e",
    "colab": {
     "base_uri": "https://localhost:8080/",
     "height": 87
    }
   },
   "source": [
    "p_approval = .95\n",
    "score_approval = np.log(p_approval / (1. - p_approval))\n",
    "x = X.values[[649]]\n",
    "fs = rs.Flipset(x, action_set = A, coefficients=clf.coef_[0], intercept=clf.intercept_[0] - score_threshold)\n",
    "fs.populate(enumeration_type = 'distinct_subsets', total_items = 5);\n",
    "display(HTML(fs.to_html()))"
   ],
   "execution_count": null,
   "outputs": [
    {
     "output_type": "stream",
     "text": [
      "recovered all minimum-cost items\n",
      "obtained 0 items in 0.0 seconds\n"
     ],
     "name": "stdout"
    },
    {
     "output_type": "display_data",
     "data": {
      "text/html": [
       "<span style=\"text-shadow: 0px 1px 1px #4d4d4d; color: 'black'; font: 30px 'LeagueGothicRegular'; background-color:#e2efd8\">No Recourse</span>"
      ],
      "text/plain": [
       "<IPython.core.display.HTML object>"
      ]
     },
     "metadata": {
      "tags": []
     }
    }
   ]
  },
  {
   "cell_type": "markdown",
   "metadata": {
    "id": "fSp8o1KiUuk2"
   },
   "source": [
    "# Recourse Verification with `RecourseAuditor`"
   ]
  },
  {
   "cell_type": "markdown",
   "metadata": {
    "id": "_GR7smC_ytgo"
   },
   "source": [
    "Ideally, we want to ensure that we provide consumers with recourse ahead of time. One way to ensure this is to check if a model provides recourse to each consumer in the training dataset. To make this process simpler, we produced `RecourseAuditor`"
   ]
  },
  {
   "cell_type": "code",
   "metadata": {
    "id": "E66l64u2Uuk3",
    "outputId": "9ed8af74-8def-4363-d1b9-e2aa688c660f",
    "colab": {
     "base_uri": "https://localhost:8080/",
     "height": 66,
     "referenced_widgets": [
      "1b3bd974dc6d42c0adfc197c5a7bae22",
      "1a127234b75a42b2ad83e7d8968783f0",
      "ea4c022beed44fbc9dbb8994fabac7d7",
      "bfc846fac50d48b4afdbe767f23a0a3f",
      "6c9fdd0b4af34bc1ac54b60ede40c451",
      "619a23735654425ca4296b6abb488b54",
      "971f62536c04457eb9f504579d352b8c",
      "f159d6e09f9645e0a5289f3a96b208be"
     ]
    }
   },
   "source": [
    "# Basic Recourse Verification with 1 Model\n",
    "# Use the auditor on 100 points (live)\n",
    "# It's super easy\n",
    "\n",
    "# How many people are dnied\n",
    "# How many have recourse?\n",
    "# How difficult is that recourse?\n",
    "\n",
    "from recourse import RecourseAuditor\n",
    "\n",
    "ra = RecourseAuditor(\n",
    "    action_set=A,\n",
    "    coefficients=clf.coef_[0],\n",
    "    intercept=clf.intercept_[0] - score_threshold,\n",
    "    solver='python-mip'\n",
    ")\n",
    "\n",
    "audit_output = ra.audit(X.sample(100))"
   ],
   "execution_count": null,
   "outputs": [
    {
     "output_type": "display_data",
     "data": {
      "application/vnd.jupyter.widget-view+json": {
       "model_id": "1b3bd974dc6d42c0adfc197c5a7bae22",
       "version_minor": 0,
       "version_major": 2
      },
      "text/plain": [
       "HBox(children=(FloatProgress(value=0.0, max=98.0), HTML(value='')))"
      ]
     },
     "metadata": {
      "tags": []
     }
    },
    {
     "output_type": "stream",
     "text": [
      "\n"
     ],
     "name": "stdout"
    }
   ]
  },
  {
   "cell_type": "code",
   "metadata": {
    "id": "tUJscnUGUuk6",
    "outputId": "0c46e811-b4a1-43af-9de5-ef5e91cc3cd3",
    "colab": {
     "base_uri": "https://localhost:8080/",
     "height": 68
    }
   },
   "source": [
    "audit_output['feasible'].value_counts()"
   ],
   "execution_count": null,
   "outputs": [
    {
     "output_type": "execute_result",
     "data": {
      "text/plain": [
       "True     97\n",
       "False     2\n",
       "Name: feasible, dtype: int64"
      ]
     },
     "metadata": {
      "tags": []
     },
     "execution_count": 37
    }
   ]
  }
 ]
}