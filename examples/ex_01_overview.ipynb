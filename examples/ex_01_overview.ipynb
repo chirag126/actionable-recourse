{
  "nbformat": 4,
  "nbformat_minor": 0,
  "metadata": {
    "kernelspec": {
      "display_name": "Python 3",
      "language": "python",
      "name": "python3"
    },
    "language_info": {
      "codemirror_mode": {
        "name": "ipython",
        "version": 3
      },
      "file_extension": ".py",
      "mimetype": "text/x-python",
      "name": "python",
      "nbconvert_exporter": "python",
      "pygments_lexer": "ipython3",
      "version": "3.7.6"
    },
    "pycharm": {
      "stem_cell": {
        "cell_type": "raw",
        "metadata": {
          "collapsed": false
        },
        "source": []
      }
    },
    "colab": {
      "name": "Recourse Package Demo",
      "provenance": [],
      "collapsed_sections": [
        "D9noX-YZj8jc"
      ]
    },
    "widgets": {
      "application/vnd.jupyter.widget-state+json": {
        "1b3bd974dc6d42c0adfc197c5a7bae22": {
          "model_module": "@jupyter-widgets/controls",
          "model_name": "HBoxModel",
          "state": {
            "_view_name": "HBoxView",
            "_dom_classes": [],
            "_model_name": "HBoxModel",
            "_view_module": "@jupyter-widgets/controls",
            "_model_module_version": "1.5.0",
            "_view_count": null,
            "_view_module_version": "1.5.0",
            "box_style": "",
            "layout": "IPY_MODEL_1a127234b75a42b2ad83e7d8968783f0",
            "_model_module": "@jupyter-widgets/controls",
            "children": [
              "IPY_MODEL_ea4c022beed44fbc9dbb8994fabac7d7",
              "IPY_MODEL_bfc846fac50d48b4afdbe767f23a0a3f"
            ]
          }
        },
        "1a127234b75a42b2ad83e7d8968783f0": {
          "model_module": "@jupyter-widgets/base",
          "model_name": "LayoutModel",
          "state": {
            "_view_name": "LayoutView",
            "grid_template_rows": null,
            "right": null,
            "justify_content": null,
            "_view_module": "@jupyter-widgets/base",
            "overflow": null,
            "_model_module_version": "1.2.0",
            "_view_count": null,
            "flex_flow": null,
            "width": null,
            "min_width": null,
            "border": null,
            "align_items": null,
            "bottom": null,
            "_model_module": "@jupyter-widgets/base",
            "top": null,
            "grid_column": null,
            "overflow_y": null,
            "overflow_x": null,
            "grid_auto_flow": null,
            "grid_area": null,
            "grid_template_columns": null,
            "flex": null,
            "_model_name": "LayoutModel",
            "justify_items": null,
            "grid_row": null,
            "max_height": null,
            "align_content": null,
            "visibility": null,
            "align_self": null,
            "height": null,
            "min_height": null,
            "padding": null,
            "grid_auto_rows": null,
            "grid_gap": null,
            "max_width": null,
            "order": null,
            "_view_module_version": "1.2.0",
            "grid_template_areas": null,
            "object_position": null,
            "object_fit": null,
            "grid_auto_columns": null,
            "margin": null,
            "display": null,
            "left": null
          }
        },
        "ea4c022beed44fbc9dbb8994fabac7d7": {
          "model_module": "@jupyter-widgets/controls",
          "model_name": "FloatProgressModel",
          "state": {
            "_view_name": "ProgressView",
            "style": "IPY_MODEL_6c9fdd0b4af34bc1ac54b60ede40c451",
            "_dom_classes": [],
            "description": "100%",
            "_model_name": "FloatProgressModel",
            "bar_style": "success",
            "max": 98,
            "_view_module": "@jupyter-widgets/controls",
            "_model_module_version": "1.5.0",
            "value": 98,
            "_view_count": null,
            "_view_module_version": "1.5.0",
            "orientation": "horizontal",
            "min": 0,
            "description_tooltip": null,
            "_model_module": "@jupyter-widgets/controls",
            "layout": "IPY_MODEL_619a23735654425ca4296b6abb488b54"
          }
        },
        "bfc846fac50d48b4afdbe767f23a0a3f": {
          "model_module": "@jupyter-widgets/controls",
          "model_name": "HTMLModel",
          "state": {
            "_view_name": "HTMLView",
            "style": "IPY_MODEL_971f62536c04457eb9f504579d352b8c",
            "_dom_classes": [],
            "description": "",
            "_model_name": "HTMLModel",
            "placeholder": "​",
            "_view_module": "@jupyter-widgets/controls",
            "_model_module_version": "1.5.0",
            "value": " 98/98 [00:18&lt;00:00,  5.43it/s]",
            "_view_count": null,
            "_view_module_version": "1.5.0",
            "description_tooltip": null,
            "_model_module": "@jupyter-widgets/controls",
            "layout": "IPY_MODEL_f159d6e09f9645e0a5289f3a96b208be"
          }
        },
        "6c9fdd0b4af34bc1ac54b60ede40c451": {
          "model_module": "@jupyter-widgets/controls",
          "model_name": "ProgressStyleModel",
          "state": {
            "_view_name": "StyleView",
            "_model_name": "ProgressStyleModel",
            "description_width": "initial",
            "_view_module": "@jupyter-widgets/base",
            "_model_module_version": "1.5.0",
            "_view_count": null,
            "_view_module_version": "1.2.0",
            "bar_color": null,
            "_model_module": "@jupyter-widgets/controls"
          }
        },
        "619a23735654425ca4296b6abb488b54": {
          "model_module": "@jupyter-widgets/base",
          "model_name": "LayoutModel",
          "state": {
            "_view_name": "LayoutView",
            "grid_template_rows": null,
            "right": null,
            "justify_content": null,
            "_view_module": "@jupyter-widgets/base",
            "overflow": null,
            "_model_module_version": "1.2.0",
            "_view_count": null,
            "flex_flow": null,
            "width": null,
            "min_width": null,
            "border": null,
            "align_items": null,
            "bottom": null,
            "_model_module": "@jupyter-widgets/base",
            "top": null,
            "grid_column": null,
            "overflow_y": null,
            "overflow_x": null,
            "grid_auto_flow": null,
            "grid_area": null,
            "grid_template_columns": null,
            "flex": null,
            "_model_name": "LayoutModel",
            "justify_items": null,
            "grid_row": null,
            "max_height": null,
            "align_content": null,
            "visibility": null,
            "align_self": null,
            "height": null,
            "min_height": null,
            "padding": null,
            "grid_auto_rows": null,
            "grid_gap": null,
            "max_width": null,
            "order": null,
            "_view_module_version": "1.2.0",
            "grid_template_areas": null,
            "object_position": null,
            "object_fit": null,
            "grid_auto_columns": null,
            "margin": null,
            "display": null,
            "left": null
          }
        },
        "971f62536c04457eb9f504579d352b8c": {
          "model_module": "@jupyter-widgets/controls",
          "model_name": "DescriptionStyleModel",
          "state": {
            "_view_name": "StyleView",
            "_model_name": "DescriptionStyleModel",
            "description_width": "",
            "_view_module": "@jupyter-widgets/base",
            "_model_module_version": "1.5.0",
            "_view_count": null,
            "_view_module_version": "1.2.0",
            "_model_module": "@jupyter-widgets/controls"
          }
        },
        "f159d6e09f9645e0a5289f3a96b208be": {
          "model_module": "@jupyter-widgets/base",
          "model_name": "LayoutModel",
          "state": {
            "_view_name": "LayoutView",
            "grid_template_rows": null,
            "right": null,
            "justify_content": null,
            "_view_module": "@jupyter-widgets/base",
            "overflow": null,
            "_model_module_version": "1.2.0",
            "_view_count": null,
            "flex_flow": null,
            "width": null,
            "min_width": null,
            "border": null,
            "align_items": null,
            "bottom": null,
            "_model_module": "@jupyter-widgets/base",
            "top": null,
            "grid_column": null,
            "overflow_y": null,
            "overflow_x": null,
            "grid_auto_flow": null,
            "grid_area": null,
            "grid_template_columns": null,
            "flex": null,
            "_model_name": "LayoutModel",
            "justify_items": null,
            "grid_row": null,
            "max_height": null,
            "align_content": null,
            "visibility": null,
            "align_self": null,
            "height": null,
            "min_height": null,
            "padding": null,
            "grid_auto_rows": null,
            "grid_gap": null,
            "max_width": null,
            "order": null,
            "_view_module_version": "1.2.0",
            "grid_template_areas": null,
            "object_position": null,
            "object_fit": null,
            "grid_auto_columns": null,
            "margin": null,
            "display": null,
            "left": null
          }
        }
      }
    }
  },
  "cells": [
    {
      "cell_type": "markdown",
      "metadata": {
        "id": "BJMJtqtZUukN"
      },
      "source": [
        "In this demo, we will show how you can use:\n",
        "\n",
        "1. `ActionSet` to specify how a consumer can alter the input variables of a machine learning model\n",
        "\n",
        "2. `Flipset` to generate an actionable adverse action notice for a consumer who is denied a loan\n",
        "\n",
        "3. `RecourseAuditor` to measure the feasibility and difficulty of recourse for a given model before it is deployed\n",
        "\n"
      ]
    },
    {
      "cell_type": "markdown",
      "metadata": {
        "id": "D9noX-YZj8jc"
      },
      "source": [
        "# Preliminaries"
      ]
    },
    {
      "cell_type": "markdown",
      "metadata": {
        "id": "kfd82rMDrMKk"
      },
      "source": [
        "You can install using `pip`"
      ]
    },
    {
      "cell_type": "code",
      "metadata": {
        "id": "f4mfFRTiU5vM",
        "outputId": "f90d208e-6de9-4cd6-fb14-810721c50456",
        "colab": {
          "base_uri": "https://localhost:8080/",
          "height": 936
        }
      },
      "source": [
        "! pip install actionable-recourse"
      ],
      "execution_count": null,
      "outputs": [
        {
          "output_type": "stream",
          "text": [
            "Collecting actionable-recourse\n",
            "\u001b[?25l  Downloading https://files.pythonhosted.org/packages/79/97/7df47186ec58f13981aa4e89e8fdfd81c907c73112f42cafcb1d685d9b00/actionable_recourse-1.0.1-py3-none-any.whl (46kB)\n",
            "\r\u001b[K     |███████                         | 10kB 16.7MB/s eta 0:00:01\r\u001b[K     |██████████████▏                 | 20kB 6.5MB/s eta 0:00:01\r\u001b[K     |█████████████████████▏          | 30kB 6.9MB/s eta 0:00:01\r\u001b[K     |████████████████████████████▎   | 40kB 8.5MB/s eta 0:00:01\r\u001b[K     |████████████████████████████████| 51kB 4.0MB/s \n",
            "\u001b[?25hRequirement already satisfied: scipy>=0.19.1 in /usr/local/lib/python3.6/dist-packages (from actionable-recourse) (1.4.1)\n",
            "Requirement already satisfied: prettytable>=0.7.2 in /usr/local/lib/python3.6/dist-packages (from actionable-recourse) (1.0.1)\n",
            "Requirement already satisfied: seaborn>=0.9.0 in /usr/local/lib/python3.6/dist-packages (from actionable-recourse) (0.11.0)\n",
            "Requirement already satisfied: jinja2>=2.10.1 in /usr/local/lib/python3.6/dist-packages (from actionable-recourse) (2.11.2)\n",
            "Requirement already satisfied: mip==1.12.0 in /usr/local/lib/python3.6/dist-packages (from actionable-recourse) (1.12.0)\n",
            "Requirement already satisfied: tqdm>=4.24.0 in /usr/local/lib/python3.6/dist-packages (from actionable-recourse) (4.41.1)\n",
            "Requirement already satisfied: pytest>=4.3.0 in /usr/local/lib/python3.6/dist-packages (from actionable-recourse) (6.1.2)\n",
            "Requirement already satisfied: numpy>=1.14.0 in /usr/local/lib/python3.6/dist-packages (from actionable-recourse) (1.18.5)\n",
            "Requirement already satisfied: traitlets>=4.3.2 in /usr/local/lib/python3.6/dist-packages (from actionable-recourse) (4.3.3)\n",
            "Requirement already satisfied: pandas>=0.23.4 in /usr/local/lib/python3.6/dist-packages (from actionable-recourse) (1.1.3)\n",
            "Requirement already satisfied: IPython>=7.2.0 in /usr/local/lib/python3.6/dist-packages (from actionable-recourse) (7.16.1)\n",
            "Requirement already satisfied: cplex>=12.8 in /usr/local/lib/python3.6/dist-packages (from actionable-recourse) (12.10.0.3)\n",
            "Requirement already satisfied: scikit-learn>=0.19.1 in /usr/local/lib/python3.6/dist-packages (from actionable-recourse) (0.22.2.post1)\n",
            "Requirement already satisfied: matplotlib>=3.0.2 in /usr/local/lib/python3.6/dist-packages (from actionable-recourse) (3.2.2)\n",
            "Requirement already satisfied: setuptools in /usr/local/lib/python3.6/dist-packages (from prettytable>=0.7.2->actionable-recourse) (50.3.2)\n",
            "Requirement already satisfied: wcwidth in /usr/local/lib/python3.6/dist-packages (from prettytable>=0.7.2->actionable-recourse) (0.2.5)\n",
            "Requirement already satisfied: MarkupSafe>=0.23 in /usr/local/lib/python3.6/dist-packages (from jinja2>=2.10.1->actionable-recourse) (1.1.1)\n",
            "Requirement already satisfied: cffi in /usr/local/lib/python3.6/dist-packages (from mip==1.12.0->actionable-recourse) (1.14.3)\n",
            "Requirement already satisfied: packaging in /usr/local/lib/python3.6/dist-packages (from pytest>=4.3.0->actionable-recourse) (20.4)\n",
            "Requirement already satisfied: attrs>=17.4.0 in /usr/local/lib/python3.6/dist-packages (from pytest>=4.3.0->actionable-recourse) (20.2.0)\n",
            "Requirement already satisfied: iniconfig in /usr/local/lib/python3.6/dist-packages (from pytest>=4.3.0->actionable-recourse) (1.1.1)\n",
            "Requirement already satisfied: toml in /usr/local/lib/python3.6/dist-packages (from pytest>=4.3.0->actionable-recourse) (0.10.1)\n",
            "Requirement already satisfied: importlib-metadata>=0.12; python_version < \"3.8\" in /usr/local/lib/python3.6/dist-packages (from pytest>=4.3.0->actionable-recourse) (2.0.0)\n",
            "Requirement already satisfied: py>=1.8.2 in /usr/local/lib/python3.6/dist-packages (from pytest>=4.3.0->actionable-recourse) (1.9.0)\n",
            "Requirement already satisfied: pluggy<1.0,>=0.12 in /usr/local/lib/python3.6/dist-packages (from pytest>=4.3.0->actionable-recourse) (0.13.1)\n",
            "Requirement already satisfied: ipython-genutils in /usr/local/lib/python3.6/dist-packages (from traitlets>=4.3.2->actionable-recourse) (0.2.0)\n",
            "Requirement already satisfied: six in /usr/local/lib/python3.6/dist-packages (from traitlets>=4.3.2->actionable-recourse) (1.15.0)\n",
            "Requirement already satisfied: decorator in /usr/local/lib/python3.6/dist-packages (from traitlets>=4.3.2->actionable-recourse) (4.4.2)\n",
            "Requirement already satisfied: python-dateutil>=2.7.3 in /usr/local/lib/python3.6/dist-packages (from pandas>=0.23.4->actionable-recourse) (2.8.1)\n",
            "Requirement already satisfied: pytz>=2017.2 in /usr/local/lib/python3.6/dist-packages (from pandas>=0.23.4->actionable-recourse) (2018.9)\n",
            "Requirement already satisfied: backcall in /usr/local/lib/python3.6/dist-packages (from IPython>=7.2.0->actionable-recourse) (0.2.0)\n",
            "Requirement already satisfied: jedi>=0.10 in /usr/local/lib/python3.6/dist-packages (from IPython>=7.2.0->actionable-recourse) (0.17.2)\n",
            "Requirement already satisfied: pexpect; sys_platform != \"win32\" in /usr/local/lib/python3.6/dist-packages (from IPython>=7.2.0->actionable-recourse) (4.8.0)\n",
            "Requirement already satisfied: prompt-toolkit!=3.0.0,!=3.0.1,<3.1.0,>=2.0.0 in /usr/local/lib/python3.6/dist-packages (from IPython>=7.2.0->actionable-recourse) (3.0.8)\n",
            "Requirement already satisfied: pickleshare in /usr/local/lib/python3.6/dist-packages (from IPython>=7.2.0->actionable-recourse) (0.7.5)\n",
            "Requirement already satisfied: pygments in /usr/local/lib/python3.6/dist-packages (from IPython>=7.2.0->actionable-recourse) (2.6.1)\n",
            "Requirement already satisfied: joblib>=0.11 in /usr/local/lib/python3.6/dist-packages (from scikit-learn>=0.19.1->actionable-recourse) (0.17.0)\n",
            "Requirement already satisfied: kiwisolver>=1.0.1 in /usr/local/lib/python3.6/dist-packages (from matplotlib>=3.0.2->actionable-recourse) (1.2.0)\n",
            "Requirement already satisfied: cycler>=0.10 in /usr/local/lib/python3.6/dist-packages (from matplotlib>=3.0.2->actionable-recourse) (0.10.0)\n",
            "Requirement already satisfied: pyparsing!=2.0.4,!=2.1.2,!=2.1.6,>=2.0.1 in /usr/local/lib/python3.6/dist-packages (from matplotlib>=3.0.2->actionable-recourse) (2.4.7)\n",
            "Requirement already satisfied: pycparser in /usr/local/lib/python3.6/dist-packages (from cffi->mip==1.12.0->actionable-recourse) (2.20)\n",
            "Requirement already satisfied: zipp>=0.5 in /usr/local/lib/python3.6/dist-packages (from importlib-metadata>=0.12; python_version < \"3.8\"->pytest>=4.3.0->actionable-recourse) (3.3.1)\n",
            "Requirement already satisfied: parso<0.8.0,>=0.7.0 in /usr/local/lib/python3.6/dist-packages (from jedi>=0.10->IPython>=7.2.0->actionable-recourse) (0.7.1)\n",
            "Requirement already satisfied: ptyprocess>=0.5 in /usr/local/lib/python3.6/dist-packages (from pexpect; sys_platform != \"win32\"->IPython>=7.2.0->actionable-recourse) (0.6.0)\n",
            "Installing collected packages: actionable-recourse\n",
            "Successfully installed actionable-recourse-1.0.1\n"
          ],
          "name": "stdout"
        },
        {
          "output_type": "display_data",
          "data": {
            "application/vnd.colab-display-data+json": {
              "pip_warning": {
                "packages": [
                  "recourse"
                ]
              }
            }
          },
          "metadata": {
            "tags": []
          }
        }
      ]
    },
    {
      "cell_type": "markdown",
      "metadata": {
        "id": "Mv4B2aU7UukP"
      },
      "source": [
        "We start by building a simple logistic regression for loan approval for the demo. We train the model using the **default of credit card clients** dataset from the [UCI ML repository](https://archive.ics.uci.edu/ml/datasets/default+of+credit+card+clients).\n"
      ]
    },
    {
      "cell_type": "code",
      "metadata": {
        "id": "oC-GtvFEUukP"
      },
      "source": [
        "import recourse as rs\n",
        "import numpy as np\n",
        "import pandas as pd\n",
        "from sklearn.linear_model import LogisticRegression\n",
        "from IPython.core.display import display, HTML\n",
        "pd.options.display.float_format = '{:,.3f}'.format\n",
        "\n",
        "# import data\n",
        "url = 'https://raw.githubusercontent.com/ustunb/actionable-recourse/master/examples/paper/data/credit_processed.csv'\n",
        "df = pd.read_csv(url)\n",
        "y, X = df.iloc[:, 0], df.iloc[:, 1:]\n",
        "\n",
        "# train a classifier\n",
        "clf = LogisticRegression(max_iter = 1000)\n",
        "clf.fit(X, y)\n",
        "yhat = clf.predict(X)"
      ],
      "execution_count": null,
      "outputs": []
    },
    {
      "cell_type": "markdown",
      "metadata": {
        "id": "yf8cC5pckgSf"
      },
      "source": [
        "The outcome variable is defined as:\n",
        "\n",
        "> y[i] = 1 if a person repays a credit card loan\n",
        "\n",
        "> y[i] = 0 if a person defaults on a credit card loan\n",
        "\n",
        "The model `clf` predicts this outcome using the following input variables and weights\n"
      ]
    },
    {
      "cell_type": "code",
      "metadata": {
        "id": "Rj-M-qpqUukX",
        "outputId": "c2847e56-8f3f-4b64-c94a-e7d78707cfa8",
        "colab": {
          "base_uri": "https://localhost:8080/",
          "height": 576
        }
      },
      "source": [
        "pd.Series(clf.coef_[0], index=X.columns).to_frame('Coefficients')"
      ],
      "execution_count": null,
      "outputs": [
        {
          "output_type": "execute_result",
          "data": {
            "text/html": [
              "<div>\n",
              "<style scoped>\n",
              "    .dataframe tbody tr th:only-of-type {\n",
              "        vertical-align: middle;\n",
              "    }\n",
              "\n",
              "    .dataframe tbody tr th {\n",
              "        vertical-align: top;\n",
              "    }\n",
              "\n",
              "    .dataframe thead th {\n",
              "        text-align: right;\n",
              "    }\n",
              "</style>\n",
              "<table border=\"1\" class=\"dataframe\">\n",
              "  <thead>\n",
              "    <tr style=\"text-align: right;\">\n",
              "      <th></th>\n",
              "      <th>Coefficients</th>\n",
              "    </tr>\n",
              "  </thead>\n",
              "  <tbody>\n",
              "    <tr>\n",
              "      <th>Married</th>\n",
              "      <td>0.344</td>\n",
              "    </tr>\n",
              "    <tr>\n",
              "      <th>Single</th>\n",
              "      <td>0.541</td>\n",
              "    </tr>\n",
              "    <tr>\n",
              "      <th>Age_lt_25</th>\n",
              "      <td>0.196</td>\n",
              "    </tr>\n",
              "    <tr>\n",
              "      <th>Age_in_25_to_40</th>\n",
              "      <td>0.411</td>\n",
              "    </tr>\n",
              "    <tr>\n",
              "      <th>Age_in_40_to_59</th>\n",
              "      <td>0.297</td>\n",
              "    </tr>\n",
              "    <tr>\n",
              "      <th>Age_geq_60</th>\n",
              "      <td>0.010</td>\n",
              "    </tr>\n",
              "    <tr>\n",
              "      <th>EducationLevel</th>\n",
              "      <td>0.055</td>\n",
              "    </tr>\n",
              "    <tr>\n",
              "      <th>MaxBillAmountOverLast6Months</th>\n",
              "      <td>0.000</td>\n",
              "    </tr>\n",
              "    <tr>\n",
              "      <th>MaxPaymentAmountOverLast6Months</th>\n",
              "      <td>0.000</td>\n",
              "    </tr>\n",
              "    <tr>\n",
              "      <th>MonthsWithZeroBalanceOverLast6Months</th>\n",
              "      <td>0.074</td>\n",
              "    </tr>\n",
              "    <tr>\n",
              "      <th>MonthsWithLowSpendingOverLast6Months</th>\n",
              "      <td>-0.009</td>\n",
              "    </tr>\n",
              "    <tr>\n",
              "      <th>MonthsWithHighSpendingOverLast6Months</th>\n",
              "      <td>-0.047</td>\n",
              "    </tr>\n",
              "    <tr>\n",
              "      <th>MostRecentBillAmount</th>\n",
              "      <td>-0.000</td>\n",
              "    </tr>\n",
              "    <tr>\n",
              "      <th>MostRecentPaymentAmount</th>\n",
              "      <td>0.000</td>\n",
              "    </tr>\n",
              "    <tr>\n",
              "      <th>TotalOverdueCounts</th>\n",
              "      <td>-0.522</td>\n",
              "    </tr>\n",
              "    <tr>\n",
              "      <th>TotalMonthsOverdue</th>\n",
              "      <td>-0.121</td>\n",
              "    </tr>\n",
              "    <tr>\n",
              "      <th>HistoryOfOverduePayments</th>\n",
              "      <td>-0.411</td>\n",
              "    </tr>\n",
              "  </tbody>\n",
              "</table>\n",
              "</div>"
            ],
            "text/plain": [
              "                                       Coefficients\n",
              "Married                                       0.344\n",
              "Single                                        0.541\n",
              "Age_lt_25                                     0.196\n",
              "Age_in_25_to_40                               0.411\n",
              "Age_in_40_to_59                               0.297\n",
              "Age_geq_60                                    0.010\n",
              "EducationLevel                                0.055\n",
              "MaxBillAmountOverLast6Months                  0.000\n",
              "MaxPaymentAmountOverLast6Months               0.000\n",
              "MonthsWithZeroBalanceOverLast6Months          0.074\n",
              "MonthsWithLowSpendingOverLast6Months         -0.009\n",
              "MonthsWithHighSpendingOverLast6Months        -0.047\n",
              "MostRecentBillAmount                         -0.000\n",
              "MostRecentPaymentAmount                       0.000\n",
              "TotalOverdueCounts                           -0.522\n",
              "TotalMonthsOverdue                           -0.121\n",
              "HistoryOfOverduePayments                     -0.411"
            ]
          },
          "metadata": {
            "tags": []
          },
          "execution_count": 19
        }
      ]
    },
    {
      "cell_type": "markdown",
      "metadata": {
        "id": "XcExqMbPUuka"
      },
      "source": [
        "# Using `ActionSet` to specify how each variable can be changed"
      ]
    },
    {
      "cell_type": "markdown",
      "metadata": {
        "id": "PjddwNZKtkw6"
      },
      "source": [
        "The first step of any recourse-related analysis is to specify how a person can change the input variables to the model. This can quickly become tedious – especially when models contain tens or hundreds of different inputs. \n",
        "\n",
        "We created `ActionSet` to make this process as easy as possible on practitioners. `ActionSet` is designed to reduce the amount of information you have to enter by infering variable types and bounds from a sample of points.\n"
      ]
    },
    {
      "cell_type": "code",
      "metadata": {
        "id": "T6HNSGEBUukb",
        "outputId": "418f837c-9b73-43f5-8a40-c11735d36195",
        "colab": {
          "base_uri": "https://localhost:8080/"
        }
      },
      "source": [
        "A = rs.ActionSet(X) \n",
        "print(A)"
      ],
      "execution_count": null,
      "outputs": [
        {
          "output_type": "stream",
          "text": [
            "+---------------------------------------+----------------+------------+------------+----------------+----------------+-----------+-----------+-----------+-----+---------+\n",
            "|                                  name |  variable type | actionable | compatible | step direction | flip direction | grid size | step type | step size |  lb |      ub |\n",
            "+---------------------------------------+----------------+------------+------------+----------------+----------------+-----------+-----------+-----------+-----+---------+\n",
            "|                               Married | <class 'bool'> |       True |        nan |              0 |            nan |         2 |  absolute |       1.0 | 0.0 |     1.0 |\n",
            "|                                Single | <class 'bool'> |       True |        nan |              0 |            nan |         2 |  absolute |       1.0 | 0.0 |     1.0 |\n",
            "|                             Age_lt_25 | <class 'bool'> |       True |        nan |              0 |            nan |         2 |  absolute |       1.0 | 0.0 |     1.0 |\n",
            "|                       Age_in_25_to_40 | <class 'bool'> |       True |        nan |              0 |            nan |         2 |  absolute |       1.0 | 0.0 |     1.0 |\n",
            "|                       Age_in_40_to_59 | <class 'bool'> |       True |        nan |              0 |            nan |         2 |  absolute |       1.0 | 0.0 |     1.0 |\n",
            "|                            Age_geq_60 | <class 'bool'> |       True |        nan |              0 |            nan |         2 |  absolute |       1.0 | 0.0 |     1.0 |\n",
            "|                        EducationLevel |  <class 'int'> |       True |        nan |              0 |            nan |         4 |  relative |      0.01 | 0.0 |     3.0 |\n",
            "|          MaxBillAmountOverLast6Months |  <class 'int'> |       True |        nan |              0 |            nan |       101 |  relative |      0.01 | 0.0 | 11321.0 |\n",
            "|       MaxPaymentAmountOverLast6Months |  <class 'int'> |       True |        nan |              0 |            nan |       101 |  relative |      0.01 | 0.0 |  5480.0 |\n",
            "|  MonthsWithZeroBalanceOverLast6Months |  <class 'int'> |       True |        nan |              0 |            nan |         5 |  relative |      0.01 | 0.0 |     4.0 |\n",
            "|  MonthsWithLowSpendingOverLast6Months |  <class 'int'> |       True |        nan |              0 |            nan |         7 |  relative |      0.01 | 0.0 |     6.0 |\n",
            "| MonthsWithHighSpendingOverLast6Months |  <class 'int'> |       True |        nan |              0 |            nan |         7 |  relative |      0.01 | 0.0 |     6.0 |\n",
            "|                  MostRecentBillAmount |  <class 'int'> |       True |        nan |              0 |            nan |       101 |  relative |      0.01 | 0.0 | 10690.0 |\n",
            "|               MostRecentPaymentAmount |  <class 'int'> |       True |        nan |              0 |            nan |        98 |  relative |      0.01 | 0.0 |  2031.0 |\n",
            "|                    TotalOverdueCounts |  <class 'int'> |       True |        nan |              0 |            nan |         3 |  relative |      0.01 | 0.0 |     2.0 |\n",
            "|                    TotalMonthsOverdue |  <class 'int'> |       True |        nan |              0 |            nan |        16 |  relative |      0.01 | 0.0 |    15.0 |\n",
            "|              HistoryOfOverduePayments | <class 'bool'> |       True |        nan |              0 |            nan |         2 |  absolute |       1.0 | 0.0 |     1.0 |\n",
            "+---------------------------------------+----------------+------------+------------+----------------+----------------+-----------+-----------+-----------+-----+---------+\n"
          ],
          "name": "stdout"
        }
      ]
    },
    {
      "cell_type": "markdown",
      "metadata": {
        "id": "a4gHkgcrt82t"
      },
      "source": [
        "Practitioners can then fine-tune the set of feasible actions for each variable with using a familiar pandas-like API.\n"
      ]
    },
    {
      "cell_type": "code",
      "metadata": {
        "id": "muHdcjGTt_MF",
        "outputId": "33fab914-4435-499c-81ad-9ce1d2a808dd",
        "colab": {
          "base_uri": "https://localhost:8080/"
        }
      },
      "source": [
        "# Variables that can't be changed\n",
        "A['Married'].actionable = False\n",
        "A[['Age_lt_25', 'Age_in_25_to_40', 'Age_in_40_to_59', 'Age_geq_60']].actionable = False\n",
        "A[['TotalMonthsOverdue', 'TotalOverdueCounts', 'HistoryOfOverduePayments']].actionable = False\n",
        "print(A)\n",
        "\n",
        "# EducationLevel takes values from (0, 3), can be changed in increments of 1, and must increase\n",
        "A['EducationLevel'].bounds = (0, 3)\n",
        "A['EducationLevel'].step_size = 1\n",
        "A['EducationLevel'].step_type = \"absolute\" \n",
        "A['EducationLevel'].step_direction = 1 \n",
        "\n",
        "# TotalMonthsOverview takes values between 0 to 12, can only increase by 1 month, and must increase\n",
        "A['TotalMonthsOverdue'].bounds = (0, 12)\n",
        "A['TotalMonthsOverdue'].step_size = 1  \n",
        "A['TotalMonthsOverdue'].step_type = \"absolute\"  "
      ],
      "execution_count": null,
      "outputs": [
        {
          "output_type": "stream",
          "text": [
            "+---------------------------------------+----------------+------------+------------+----------------+----------------+-----------+-----------+-----------+-----+---------+\n",
            "|                                  name |  variable type | actionable | compatible | step direction | flip direction | grid size | step type | step size |  lb |      ub |\n",
            "+---------------------------------------+----------------+------------+------------+----------------+----------------+-----------+-----------+-----------+-----+---------+\n",
            "|                               Married | <class 'bool'> |      False |        nan |              0 |            nan |         2 |  absolute |       1.0 | 0.0 |     1.0 |\n",
            "|                                Single | <class 'bool'> |       True |        nan |              0 |            nan |         2 |  absolute |       1.0 | 0.0 |     1.0 |\n",
            "|                             Age_lt_25 | <class 'bool'> |      False |        nan |              0 |            nan |         2 |  absolute |       1.0 | 0.0 |     1.0 |\n",
            "|                       Age_in_25_to_40 | <class 'bool'> |      False |        nan |              0 |            nan |         2 |  absolute |       1.0 | 0.0 |     1.0 |\n",
            "|                       Age_in_40_to_59 | <class 'bool'> |      False |        nan |              0 |            nan |         2 |  absolute |       1.0 | 0.0 |     1.0 |\n",
            "|                            Age_geq_60 | <class 'bool'> |      False |        nan |              0 |            nan |         2 |  absolute |       1.0 | 0.0 |     1.0 |\n",
            "|                        EducationLevel |  <class 'int'> |       True |        nan |              1 |            nan |         4 |  absolute |       1.0 | 0.0 |     3.0 |\n",
            "|          MaxBillAmountOverLast6Months |  <class 'int'> |       True |        nan |              0 |            nan |       101 |  relative |      0.01 | 0.0 | 11321.0 |\n",
            "|       MaxPaymentAmountOverLast6Months |  <class 'int'> |       True |        nan |              0 |            nan |       101 |  relative |      0.01 | 0.0 |  5480.0 |\n",
            "|  MonthsWithZeroBalanceOverLast6Months |  <class 'int'> |       True |        nan |              0 |            nan |         5 |  relative |      0.01 | 0.0 |     4.0 |\n",
            "|  MonthsWithLowSpendingOverLast6Months |  <class 'int'> |       True |        nan |              0 |            nan |         7 |  relative |      0.01 | 0.0 |     6.0 |\n",
            "| MonthsWithHighSpendingOverLast6Months |  <class 'int'> |       True |        nan |              0 |            nan |         7 |  relative |      0.01 | 0.0 |     6.0 |\n",
            "|                  MostRecentBillAmount |  <class 'int'> |       True |        nan |              0 |            nan |       101 |  relative |      0.01 | 0.0 | 10690.0 |\n",
            "|               MostRecentPaymentAmount |  <class 'int'> |       True |        nan |              0 |            nan |        98 |  relative |      0.01 | 0.0 |  2031.0 |\n",
            "|                    TotalOverdueCounts |  <class 'int'> |      False |        nan |              0 |            nan |         3 |  relative |      0.01 | 0.0 |     2.0 |\n",
            "|                    TotalMonthsOverdue |  <class 'int'> |      False |        nan |              0 |            nan |        16 |  absolute |       1.0 | 0.0 |    12.0 |\n",
            "|              HistoryOfOverduePayments | <class 'bool'> |      False |        nan |              0 |            nan |         2 |  absolute |       1.0 | 0.0 |     1.0 |\n",
            "+---------------------------------------+----------------+------------+------------+----------------+----------------+-----------+-----------+-----------+-----+---------+\n"
          ],
          "name": "stdout"
        }
      ]
    },
    {
      "cell_type": "markdown",
      "metadata": {
        "id": "8P4kAk8ZlLzH"
      },
      "source": [
        "# Generating Actionable Adverse Action Notices with `Flipset`"
      ]
    },
    {
      "cell_type": "markdown",
      "metadata": {
        "id": "F--vr1Zwldi-"
      },
      "source": [
        "When our model is deployed, it will deny loan to any person whos input variables `x` receive a predicted outcome of 0 -- i.e., `clf.predict(x) == 0`. Looks like this was the case for person i = 13"
      ]
    },
    {
      "cell_type": "code",
      "metadata": {
        "id": "XnrEUwViUukh",
        "outputId": "41f93571-5e5e-4442-ec13-a75f8bf4673d",
        "colab": {
          "base_uri": "https://localhost:8080/"
        }
      },
      "source": [
        "x = X.values[[13]]\n",
        "print('yhat[i] = %d' % clf.predict(x)[0])"
      ],
      "execution_count": null,
      "outputs": [
        {
          "output_type": "stream",
          "text": [
            "yhat[i] = 0\n"
          ],
          "name": "stdout"
        }
      ]
    },
    {
      "cell_type": "markdown",
      "metadata": {
        "id": "Q7sYM0HWnFM3"
      },
      "source": [
        "We can generate an actionable adverse action notice for person `i` using the `Flipset` class. A `Flipset` represents a set of actions that a person can take to change their prediction from 0 to 1.\n",
        "\n",
        "We initialize `Flipset` using the input variables for person i `x`, the action set `A` and the model `clf`. "
      ]
    },
    {
      "cell_type": "code",
      "metadata": {
        "scrolled": false,
        "id": "Got7zgJgUukk",
        "outputId": "8a7984f7-6df1-443a-ddd3-b7dc44583262",
        "colab": {
          "base_uri": "https://localhost:8080/",
          "height": 164
        }
      },
      "source": [
        "fs = rs.Flipset(x, action_set = A, clf = clf)"
      ],
      "execution_count": null,
      "outputs": [
        {
          "output_type": "error",
          "ename": "NameError",
          "evalue": "ignored",
          "traceback": [
            "\u001b[0;31m---------------------------------------------------------------------------\u001b[0m",
            "\u001b[0;31mNameError\u001b[0m                                 Traceback (most recent call last)",
            "\u001b[0;32m<ipython-input-1-778272d1bea2>\u001b[0m in \u001b[0;36m<module>\u001b[0;34m()\u001b[0m\n\u001b[0;32m----> 1\u001b[0;31m \u001b[0mfs\u001b[0m \u001b[0;34m=\u001b[0m \u001b[0mrs\u001b[0m\u001b[0;34m.\u001b[0m\u001b[0mFlipset\u001b[0m\u001b[0;34m(\u001b[0m\u001b[0mx\u001b[0m\u001b[0;34m,\u001b[0m \u001b[0maction_set\u001b[0m \u001b[0;34m=\u001b[0m \u001b[0mA\u001b[0m\u001b[0;34m,\u001b[0m \u001b[0mclf\u001b[0m \u001b[0;34m=\u001b[0m \u001b[0mclf\u001b[0m\u001b[0;34m)\u001b[0m\u001b[0;34m\u001b[0m\u001b[0;34m\u001b[0m\u001b[0m\n\u001b[0m",
            "\u001b[0;31mNameError\u001b[0m: name 'rs' is not defined"
          ]
        }
      ]
    },
    {
      "cell_type": "markdown",
      "metadata": {
        "id": "fG9pyJBf_9L_"
      },
      "source": [
        "We can then find actions that allow the person to flip their prediction using the populate method.\n"
      ]
    },
    {
      "cell_type": "code",
      "metadata": {
        "id": "FA34nEzsAIWK",
        "outputId": "d8c2af12-722c-4c05-edc4-50ae570d58c4",
        "colab": {
          "base_uri": "https://localhost:8080/"
        }
      },
      "source": [
        "fs.populate(enumeration_type = 'mutually_exclusive', total_items = float('inf'));"
      ],
      "execution_count": null,
      "outputs": [
        {
          "output_type": "stream",
          "text": [
            "recovered all minimum-cost items\n",
            "obtained 3 items in 0.1 seconds\n"
          ],
          "name": "stdout"
        }
      ]
    },
    {
      "cell_type": "markdown",
      "metadata": {
        "id": "glfZbKHqxQUE"
      },
      "source": [
        "\n",
        "Populating a flipset is very fast! Here, we were able find 3 items. Each item reflects a different way that the person can flip their prediction. The items are required to change different variables. \n",
        "\n",
        "We can see each changes by using `print` or the `to_html()` function. "
      ]
    },
    {
      "cell_type": "code",
      "metadata": {
        "id": "p2TCxagIUukx",
        "outputId": "ac807c57-4594-474e-edb4-e53829c8e5be",
        "colab": {
          "base_uri": "https://localhost:8080/",
          "height": 145
        }
      },
      "source": [
        "display(HTML(fs.to_html()))"
      ],
      "execution_count": null,
      "outputs": [
        {
          "output_type": "display_data",
          "data": {
            "text/html": [
              "<style  type=\"text/css\" >\n",
              "    #T_7cea8fc0_1a50_11eb_af52_0242ac1c0002 tr {\n",
              "          background-color: white;\n",
              "    }#T_7cea8fc0_1a50_11eb_af52_0242ac1c0002row0_col0,#T_7cea8fc0_1a50_11eb_af52_0242ac1c0002row0_col1,#T_7cea8fc0_1a50_11eb_af52_0242ac1c0002row0_col2,#T_7cea8fc0_1a50_11eb_af52_0242ac1c0002row0_col3,#T_7cea8fc0_1a50_11eb_af52_0242ac1c0002row4_col0,#T_7cea8fc0_1a50_11eb_af52_0242ac1c0002row4_col1,#T_7cea8fc0_1a50_11eb_af52_0242ac1c0002row4_col2,#T_7cea8fc0_1a50_11eb_af52_0242ac1c0002row4_col3{\n",
              "            background-color:  #e2efd8;\n",
              "        }#T_7cea8fc0_1a50_11eb_af52_0242ac1c0002row1_col0,#T_7cea8fc0_1a50_11eb_af52_0242ac1c0002row1_col1,#T_7cea8fc0_1a50_11eb_af52_0242ac1c0002row1_col2,#T_7cea8fc0_1a50_11eb_af52_0242ac1c0002row1_col3,#T_7cea8fc0_1a50_11eb_af52_0242ac1c0002row2_col0,#T_7cea8fc0_1a50_11eb_af52_0242ac1c0002row2_col1,#T_7cea8fc0_1a50_11eb_af52_0242ac1c0002row2_col2,#T_7cea8fc0_1a50_11eb_af52_0242ac1c0002row2_col3,#T_7cea8fc0_1a50_11eb_af52_0242ac1c0002row3_col0,#T_7cea8fc0_1a50_11eb_af52_0242ac1c0002row3_col1,#T_7cea8fc0_1a50_11eb_af52_0242ac1c0002row3_col2,#T_7cea8fc0_1a50_11eb_af52_0242ac1c0002row3_col3{\n",
              "            background-color:  white;\n",
              "        }</style><table id=\"T_7cea8fc0_1a50_11eb_af52_0242ac1c0002\" ><thead>    <tr>        <th class=\"col_heading level0 col0\" >Features to Change</th>        <th class=\"col_heading level0 col1\" >Current Value</th>        <th class=\"col_heading level0 col2\" >to</th>        <th class=\"col_heading level0 col3\" >Required Value</th>    </tr></thead><tbody>\n",
              "                <tr>\n",
              "                                        <td id=\"T_7cea8fc0_1a50_11eb_af52_0242ac1c0002row0_col0\" class=\"data row0 col0\" >MaxBillAmountOverLast6Months</td>\n",
              "                        <td id=\"T_7cea8fc0_1a50_11eb_af52_0242ac1c0002row0_col1\" class=\"data row0 col1\" >2060</td>\n",
              "                        <td id=\"T_7cea8fc0_1a50_11eb_af52_0242ac1c0002row0_col2\" class=\"data row0 col2\" >&#8594;</td>\n",
              "                        <td id=\"T_7cea8fc0_1a50_11eb_af52_0242ac1c0002row0_col3\" class=\"data row0 col3\" >5700</td>\n",
              "            </tr>\n",
              "            <tr>\n",
              "                                        <td id=\"T_7cea8fc0_1a50_11eb_af52_0242ac1c0002row1_col0\" class=\"data row1 col0\" >MonthsWithZeroBalanceOverLast6Months</td>\n",
              "                        <td id=\"T_7cea8fc0_1a50_11eb_af52_0242ac1c0002row1_col1\" class=\"data row1 col1\" >0</td>\n",
              "                        <td id=\"T_7cea8fc0_1a50_11eb_af52_0242ac1c0002row1_col2\" class=\"data row1 col2\" >&#8594;</td>\n",
              "                        <td id=\"T_7cea8fc0_1a50_11eb_af52_0242ac1c0002row1_col3\" class=\"data row1 col3\" >1</td>\n",
              "            </tr>\n",
              "            <tr>\n",
              "                                        <td id=\"T_7cea8fc0_1a50_11eb_af52_0242ac1c0002row2_col0\" class=\"data row2 col0\" >MonthsWithHighSpendingOverLast6Months</td>\n",
              "                        <td id=\"T_7cea8fc0_1a50_11eb_af52_0242ac1c0002row2_col1\" class=\"data row2 col1\" >4</td>\n",
              "                        <td id=\"T_7cea8fc0_1a50_11eb_af52_0242ac1c0002row2_col2\" class=\"data row2 col2\" >&#8594;</td>\n",
              "                        <td id=\"T_7cea8fc0_1a50_11eb_af52_0242ac1c0002row2_col3\" class=\"data row2 col3\" >0</td>\n",
              "            </tr>\n",
              "            <tr>\n",
              "                                        <td id=\"T_7cea8fc0_1a50_11eb_af52_0242ac1c0002row3_col0\" class=\"data row3 col0\" >MostRecentBillAmount</td>\n",
              "                        <td id=\"T_7cea8fc0_1a50_11eb_af52_0242ac1c0002row3_col1\" class=\"data row3 col1\" >2010</td>\n",
              "                        <td id=\"T_7cea8fc0_1a50_11eb_af52_0242ac1c0002row3_col2\" class=\"data row3 col2\" >&#8594;</td>\n",
              "                        <td id=\"T_7cea8fc0_1a50_11eb_af52_0242ac1c0002row3_col3\" class=\"data row3 col3\" >535</td>\n",
              "            </tr>\n",
              "            <tr>\n",
              "                                        <td id=\"T_7cea8fc0_1a50_11eb_af52_0242ac1c0002row4_col0\" class=\"data row4 col0\" >MostRecentPaymentAmount</td>\n",
              "                        <td id=\"T_7cea8fc0_1a50_11eb_af52_0242ac1c0002row4_col1\" class=\"data row4 col1\" >100</td>\n",
              "                        <td id=\"T_7cea8fc0_1a50_11eb_af52_0242ac1c0002row4_col2\" class=\"data row4 col2\" >&#8594;</td>\n",
              "                        <td id=\"T_7cea8fc0_1a50_11eb_af52_0242ac1c0002row4_col3\" class=\"data row4 col3\" >1218</td>\n",
              "            </tr>\n",
              "    </tbody></table>"
            ],
            "text/plain": [
              "<IPython.core.display.HTML object>"
            ]
          },
          "metadata": {
            "tags": []
          }
        }
      ]
    },
    {
      "cell_type": "markdown",
      "metadata": {
        "id": "2i-VmUv7xjaR"
      },
      "source": [
        "Here, person `i` could have changed their prediction from 0 to 1 (and thus qualify for the loan) through the performing any of the following actions:\n",
        "\n",
        "1. Increase `MaxBillAmountOverLast6Months` from \\$2,060 to \\$5,700\n",
        "\n",
        "or \n",
        "\n",
        "2. Increase `MonthsWithZeroBalanceOverLast6Months` from 0 to 1, *and* Decrease `MonthsWithHighSpendingOverLast6Months` from 4 to 0, *and* Decrease `MostRecentBillAmount` from \\$2,010 to \\$535.\n",
        "\n",
        "or \n",
        "\n",
        "3. Increase `MostRecentPaymentAmount` from \\$100 to \\$1,218.\n"
      ]
    },
    {
      "cell_type": "markdown",
      "metadata": {
        "id": "ZnHEhEBxJ-7g"
      },
      "source": [
        "## Empty Flipsets = No Recourse"
      ]
    },
    {
      "cell_type": "markdown",
      "metadata": {
        "id": "8RAonNgIKHqp"
      },
      "source": [
        "The `populate` produce is designed to search over *all possible actions* that a person can perform. This is computationally hard as the number of possible actions increases exponentially. However, it is valuable because if we find that flipset is empty after calling populate, then this means that no possible action can flip person's prediction - i.e., **the person has no recourse.**\n",
        "\n",
        "In what follows, we demonstrate how this can happen for person `i = 649`. Here, consider a more stringent model that will only approve applicants with a predicted probability of repayment greater than 95% (c.f., the previous model required a predicted probability of repayment of 50%). We can construct this model by shifting the intercept of the previous model by `np.log(0.95 / (1.0 - 0.95))).`"
      ]
    },
    {
      "cell_type": "code",
      "metadata": {
        "scrolled": true,
        "id": "Ircs0MWSUukz",
        "outputId": "f49d53ea-be7f-4e9c-de91-70f445917891",
        "colab": {
          "base_uri": "https://localhost:8080/",
          "height": 87
        }
      },
      "source": [
        "x = X.values[[649]]\n",
        "fs = rs.Flipset(x, action_set = A, coefficients = clf.coef_[0], intercept = clf.intercept_[0] - np.log(0.95 / (1.0 - 0.95)))\n",
        "fs.populate(enumeration_type = 'distinct_subsets', total_items = 1);\n",
        "display(HTML(fs.to_html()))"
      ],
      "execution_count": null,
      "outputs": [
        {
          "output_type": "stream",
          "text": [
            "recovered all minimum-cost items\n",
            "obtained 0 items in 0.0 seconds\n"
          ],
          "name": "stdout"
        },
        {
          "output_type": "display_data",
          "data": {
            "text/html": [
              "<span style=\"text-shadow: 0px 1px 1px #4d4d4d; color: 'black'; font: 30px 'LeagueGothicRegular'; background-color:#e2efd8\">No Recourse</span>"
            ],
            "text/plain": [
              "<IPython.core.display.HTML object>"
            ]
          },
          "metadata": {
            "tags": []
          }
        }
      ]
    },
    {
      "cell_type": "markdown",
      "metadata": {
        "id": "fSp8o1KiUuk2"
      },
      "source": [
        "# Check that a Model Provides Recourse with `RecourseAuditor`\n",
        "\n",
        "> Indented block\n",
        "\n"
      ]
    },
    {
      "cell_type": "markdown",
      "metadata": {
        "id": "_GR7smC_ytgo"
      },
      "source": [
        "Ideally, we want to ensure that a model will provide every consumer with some way to change their prediction before we deploy it. One way to check this is to constuct `Flipsets` for each consumer in the training dataset. To make this process simpler, we produced `RecourseAuditor`"
      ]
    },
    {
      "cell_type": "code",
      "metadata": {
        "id": "E66l64u2Uuk3",
        "outputId": "9ed8af74-8def-4363-d1b9-e2aa688c660f",
        "colab": {
          "base_uri": "https://localhost:8080/",
          "height": 66,
          "referenced_widgets": [
            "1b3bd974dc6d42c0adfc197c5a7bae22",
            "1a127234b75a42b2ad83e7d8968783f0",
            "ea4c022beed44fbc9dbb8994fabac7d7",
            "bfc846fac50d48b4afdbe767f23a0a3f",
            "6c9fdd0b4af34bc1ac54b60ede40c451",
            "619a23735654425ca4296b6abb488b54",
            "971f62536c04457eb9f504579d352b8c",
            "f159d6e09f9645e0a5289f3a96b208be"
          ]
        }
      },
      "source": [
        "# Basic Recourse Verification with 1 Model\n",
        "# Use the auditor on 100 points (live)\n",
        "# It's super easy\n",
        "\n",
        "# How many people are dnied\n",
        "# How many have recourse?\n",
        "# How difficult is that recourse?\n",
        "\n",
        "from recourse import RecourseAuditor\n",
        "\n",
        "ra = RecourseAuditor(\n",
        "    action_set=A,\n",
        "    coefficients=clf.coef_[0],\n",
        "    intercept=clf.intercept_[0] - score_threshold,\n",
        "    solver='python-mip'\n",
        ")\n",
        "\n",
        "audit_output = ra.audit(X.sample(100))"
      ],
      "execution_count": null,
      "outputs": [
        {
          "output_type": "display_data",
          "data": {
            "application/vnd.jupyter.widget-view+json": {
              "model_id": "1b3bd974dc6d42c0adfc197c5a7bae22",
              "version_minor": 0,
              "version_major": 2
            },
            "text/plain": [
              "HBox(children=(FloatProgress(value=0.0, max=98.0), HTML(value='')))"
            ]
          },
          "metadata": {
            "tags": []
          }
        },
        {
          "output_type": "stream",
          "text": [
            "\n"
          ],
          "name": "stdout"
        }
      ]
    },
    {
      "cell_type": "code",
      "metadata": {
        "id": "tUJscnUGUuk6",
        "outputId": "0c46e811-b4a1-43af-9de5-ef5e91cc3cd3",
        "colab": {
          "base_uri": "https://localhost:8080/",
          "height": 68
        }
      },
      "source": [
        "audit_output['feasible'].value_counts()"
      ],
      "execution_count": null,
      "outputs": [
        {
          "output_type": "execute_result",
          "data": {
            "text/plain": [
              "True     97\n",
              "False     2\n",
              "Name: feasible, dtype: int64"
            ]
          },
          "metadata": {
            "tags": []
          },
          "execution_count": 37
        }
      ]
    }
  ]
}