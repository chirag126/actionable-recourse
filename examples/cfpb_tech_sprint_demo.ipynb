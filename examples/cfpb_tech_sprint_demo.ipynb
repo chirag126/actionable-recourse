{
 "cells": [
  {
   "cell_type": "markdown",
   "metadata": {},
   "source": [
    "## Overview \n",
    "\n",
    "In this demo, we will show:\n",
    "\n",
    "1. How to represent actions that are available to a person using an `ActionSet` \n",
    "2. How to provide a consumer who is denied a loan by a machine learning model a list of actionable changes to flip their prediction with a `Flipset`\n",
    "3. How to verify that a model will provide recourse to all of its decision subjects using the `RecourseAuditor`\n",
    "\n",
    "\n"
   ]
  },
  {
   "cell_type": "markdown",
   "metadata": {},
   "source": [
    "Our library provides tools for recourse reporting and verifcation.\n",
    "\n",
    "We'll start by building a machine learning model for loan approval that we'll use for the demo. \n",
    "We'll use a processed version of the  `german` credit dataset from the [UCI Machine Learning repository](https://archive.ics.uci.edu/ml/datasets/statlog+(german+credit+data)). \n",
    "We'll predict the risk of repayment with a simple logistic regression model. "
   ]
  },
  {
   "cell_type": "code",
   "execution_count": 4,
   "metadata": {},
   "outputs": [],
   "source": [
    "import pandas as pd\n",
    "import numpy as np\n",
    "from sklearn.linear_model import LogisticRegression\n",
    "import recourse as rs\n",
    "from IPython.core.display import display, HTML\n",
    "\n",
    "# import data\n",
    "url = 'https://raw.githubusercontent.com/ustunb/actionable-recourse/master/examples/paper/data/credit_processed.csv'\n",
    "df = pd.read_csv(url)\n",
    "y, X = df.iloc[:, 0], df.iloc[:, 1:]\n",
    "\n",
    "# train a classifier\n",
    "clf = LogisticRegression(max_iter = 1000)\n",
    "clf.fit(X, y)\n",
    "yhat = clf.predict(X)"
   ]
  },
  {
   "cell_type": "code",
   "execution_count": 13,
   "metadata": {},
   "outputs": [
    {
     "data": {
      "text/html": [
       "<div>\n",
       "<style scoped>\n",
       "    .dataframe tbody tr th:only-of-type {\n",
       "        vertical-align: middle;\n",
       "    }\n",
       "\n",
       "    .dataframe tbody tr th {\n",
       "        vertical-align: top;\n",
       "    }\n",
       "\n",
       "    .dataframe thead th {\n",
       "        text-align: right;\n",
       "    }\n",
       "</style>\n",
       "<table border=\"1\" class=\"dataframe\">\n",
       "  <thead>\n",
       "    <tr style=\"text-align: right;\">\n",
       "      <th></th>\n",
       "      <th>Coefficients</th>\n",
       "    </tr>\n",
       "  </thead>\n",
       "  <tbody>\n",
       "    <tr>\n",
       "      <th>Married</th>\n",
       "      <td>0.370584</td>\n",
       "    </tr>\n",
       "    <tr>\n",
       "      <th>Single</th>\n",
       "      <td>0.576174</td>\n",
       "    </tr>\n",
       "    <tr>\n",
       "      <th>Age_lt_25</th>\n",
       "      <td>0.207627</td>\n",
       "    </tr>\n",
       "    <tr>\n",
       "      <th>Age_in_25_to_40</th>\n",
       "      <td>0.436330</td>\n",
       "    </tr>\n",
       "    <tr>\n",
       "      <th>Age_in_40_to_59</th>\n",
       "      <td>0.323354</td>\n",
       "    </tr>\n",
       "    <tr>\n",
       "      <th>Age_geq_60</th>\n",
       "      <td>0.010576</td>\n",
       "    </tr>\n",
       "    <tr>\n",
       "      <th>EducationLevel</th>\n",
       "      <td>0.002482</td>\n",
       "    </tr>\n",
       "    <tr>\n",
       "      <th>MaxBillAmountOverLast6Months</th>\n",
       "      <td>0.000121</td>\n",
       "    </tr>\n",
       "    <tr>\n",
       "      <th>MaxPaymentAmountOverLast6Months</th>\n",
       "      <td>0.000031</td>\n",
       "    </tr>\n",
       "    <tr>\n",
       "      <th>MonthsWithZeroBalanceOverLast6Months</th>\n",
       "      <td>0.063924</td>\n",
       "    </tr>\n",
       "    <tr>\n",
       "      <th>MonthsWithLowSpendingOverLast6Months</th>\n",
       "      <td>-0.000553</td>\n",
       "    </tr>\n",
       "    <tr>\n",
       "      <th>MonthsWithHighSpendingOverLast6Months</th>\n",
       "      <td>-0.042828</td>\n",
       "    </tr>\n",
       "    <tr>\n",
       "      <th>MostRecentBillAmount</th>\n",
       "      <td>-0.000110</td>\n",
       "    </tr>\n",
       "    <tr>\n",
       "      <th>MostRecentPaymentAmount</th>\n",
       "      <td>0.000360</td>\n",
       "    </tr>\n",
       "    <tr>\n",
       "      <th>TotalOverdueCounts</th>\n",
       "      <td>-0.562844</td>\n",
       "    </tr>\n",
       "    <tr>\n",
       "      <th>TotalMonthsOverdue</th>\n",
       "      <td>-0.117098</td>\n",
       "    </tr>\n",
       "    <tr>\n",
       "      <th>HistoryOfOverduePayments</th>\n",
       "      <td>-0.442753</td>\n",
       "    </tr>\n",
       "  </tbody>\n",
       "</table>\n",
       "</div>"
      ],
      "text/plain": [
       "                                       Coefficients\n",
       "Married                                    0.370584\n",
       "Single                                     0.576174\n",
       "Age_lt_25                                  0.207627\n",
       "Age_in_25_to_40                            0.436330\n",
       "Age_in_40_to_59                            0.323354\n",
       "Age_geq_60                                 0.010576\n",
       "EducationLevel                             0.002482\n",
       "MaxBillAmountOverLast6Months               0.000121\n",
       "MaxPaymentAmountOverLast6Months            0.000031\n",
       "MonthsWithZeroBalanceOverLast6Months       0.063924\n",
       "MonthsWithLowSpendingOverLast6Months      -0.000553\n",
       "MonthsWithHighSpendingOverLast6Months     -0.042828\n",
       "MostRecentBillAmount                      -0.000110\n",
       "MostRecentPaymentAmount                    0.000360\n",
       "TotalOverdueCounts                        -0.562844\n",
       "TotalMonthsOverdue                        -0.117098\n",
       "HistoryOfOverduePayments                  -0.442753"
      ]
     },
     "execution_count": 13,
     "metadata": {},
     "output_type": "execute_result"
    }
   ],
   "source": [
    "pd.Series(clf.coef_[0], index=X.columns).to_frame('Coefficients')"
   ]
  },
  {
   "cell_type": "markdown",
   "metadata": {},
   "source": [
    "# Action Set"
   ]
  },
  {
   "cell_type": "code",
   "execution_count": null,
   "metadata": {},
   "outputs": [],
   "source": [
    "# customize the set of actions\n",
    "A = rs.ActionSet(X)  ## matrix of features. ActionSet will set bounds and step sizes by default\n",
    "\n",
    "# specify immutable variables\n",
    "A['Married'].actionable = False\n",
    "\n",
    "# education level\n",
    "A['EducationLevel'].step_direction = 1  ## force conditional immutability.\n",
    "A['EducationLevel'].step_size = 1  ## set step-size to a custom value.\n",
    "A['EducationLevel'].step_type = \"absolute\"  ## force conditional immutability.\n",
    "A['EducationLevel'].bounds = (0, 3)\n",
    "\n",
    "A['TotalMonthsOverdue'].step_size = 1  ## set step-size to a custom value.\n",
    "A['TotalMonthsOverdue'].step_type = \"absolute\"  ## discretize on absolute values of feature rather than percentile values\n",
    "A['TotalMonthsOverdue'].bounds = (0, 100)  ## set bounds to a custom value.\n",
    "\n",
    "# can only specify properties for multiple variables using a list\n",
    "A[['Age_lt_25', 'Age_in_25_to_40', 'Age_in_40_to_59', 'Age_geq_60']].actionable = False\n",
    "# todo: add one-hot constraint"
   ]
  },
  {
   "cell_type": "code",
   "execution_count": 10,
   "metadata": {
    "scrolled": false
   },
   "outputs": [
    {
     "data": {
      "text/html": [
       "<div>\n",
       "<style scoped>\n",
       "    .dataframe tbody tr th:only-of-type {\n",
       "        vertical-align: middle;\n",
       "    }\n",
       "\n",
       "    .dataframe tbody tr th {\n",
       "        vertical-align: top;\n",
       "    }\n",
       "\n",
       "    .dataframe thead th {\n",
       "        text-align: right;\n",
       "    }\n",
       "</style>\n",
       "<table border=\"1\" class=\"dataframe\">\n",
       "  <thead>\n",
       "    <tr style=\"text-align: right;\">\n",
       "      <th></th>\n",
       "      <th>name</th>\n",
       "      <th>variable_type</th>\n",
       "      <th>actionable</th>\n",
       "      <th>lb</th>\n",
       "      <th>ub</th>\n",
       "    </tr>\n",
       "  </thead>\n",
       "  <tbody>\n",
       "    <tr>\n",
       "      <th>0</th>\n",
       "      <td>Married</td>\n",
       "      <td>&lt;class 'bool'&gt;</td>\n",
       "      <td>False</td>\n",
       "      <td>0.0</td>\n",
       "      <td>1.0</td>\n",
       "    </tr>\n",
       "    <tr>\n",
       "      <th>1</th>\n",
       "      <td>Single</td>\n",
       "      <td>&lt;class 'bool'&gt;</td>\n",
       "      <td>True</td>\n",
       "      <td>0.0</td>\n",
       "      <td>1.0</td>\n",
       "    </tr>\n",
       "    <tr>\n",
       "      <th>2</th>\n",
       "      <td>Age_lt_25</td>\n",
       "      <td>&lt;class 'bool'&gt;</td>\n",
       "      <td>False</td>\n",
       "      <td>0.0</td>\n",
       "      <td>1.0</td>\n",
       "    </tr>\n",
       "    <tr>\n",
       "      <th>3</th>\n",
       "      <td>Age_in_25_to_40</td>\n",
       "      <td>&lt;class 'bool'&gt;</td>\n",
       "      <td>False</td>\n",
       "      <td>0.0</td>\n",
       "      <td>1.0</td>\n",
       "    </tr>\n",
       "    <tr>\n",
       "      <th>4</th>\n",
       "      <td>Age_in_40_to_59</td>\n",
       "      <td>&lt;class 'bool'&gt;</td>\n",
       "      <td>False</td>\n",
       "      <td>0.0</td>\n",
       "      <td>1.0</td>\n",
       "    </tr>\n",
       "    <tr>\n",
       "      <th>5</th>\n",
       "      <td>Age_geq_60</td>\n",
       "      <td>&lt;class 'bool'&gt;</td>\n",
       "      <td>False</td>\n",
       "      <td>0.0</td>\n",
       "      <td>1.0</td>\n",
       "    </tr>\n",
       "    <tr>\n",
       "      <th>6</th>\n",
       "      <td>EducationLevel</td>\n",
       "      <td>&lt;class 'int'&gt;</td>\n",
       "      <td>True</td>\n",
       "      <td>0.0</td>\n",
       "      <td>3.0</td>\n",
       "    </tr>\n",
       "    <tr>\n",
       "      <th>7</th>\n",
       "      <td>MaxBillAmountOverLast6Months</td>\n",
       "      <td>&lt;class 'int'&gt;</td>\n",
       "      <td>True</td>\n",
       "      <td>0.0</td>\n",
       "      <td>11321.0</td>\n",
       "    </tr>\n",
       "    <tr>\n",
       "      <th>8</th>\n",
       "      <td>MaxPaymentAmountOverLast6Months</td>\n",
       "      <td>&lt;class 'int'&gt;</td>\n",
       "      <td>True</td>\n",
       "      <td>0.0</td>\n",
       "      <td>5480.0</td>\n",
       "    </tr>\n",
       "    <tr>\n",
       "      <th>9</th>\n",
       "      <td>MonthsWithZeroBalanceOverLast6Months</td>\n",
       "      <td>&lt;class 'int'&gt;</td>\n",
       "      <td>True</td>\n",
       "      <td>0.0</td>\n",
       "      <td>4.0</td>\n",
       "    </tr>\n",
       "    <tr>\n",
       "      <th>10</th>\n",
       "      <td>MonthsWithLowSpendingOverLast6Months</td>\n",
       "      <td>&lt;class 'int'&gt;</td>\n",
       "      <td>True</td>\n",
       "      <td>0.0</td>\n",
       "      <td>6.0</td>\n",
       "    </tr>\n",
       "    <tr>\n",
       "      <th>11</th>\n",
       "      <td>MonthsWithHighSpendingOverLast6Months</td>\n",
       "      <td>&lt;class 'int'&gt;</td>\n",
       "      <td>True</td>\n",
       "      <td>0.0</td>\n",
       "      <td>6.0</td>\n",
       "    </tr>\n",
       "    <tr>\n",
       "      <th>12</th>\n",
       "      <td>MostRecentBillAmount</td>\n",
       "      <td>&lt;class 'int'&gt;</td>\n",
       "      <td>True</td>\n",
       "      <td>0.0</td>\n",
       "      <td>10690.0</td>\n",
       "    </tr>\n",
       "    <tr>\n",
       "      <th>13</th>\n",
       "      <td>MostRecentPaymentAmount</td>\n",
       "      <td>&lt;class 'int'&gt;</td>\n",
       "      <td>True</td>\n",
       "      <td>0.0</td>\n",
       "      <td>2031.0</td>\n",
       "    </tr>\n",
       "    <tr>\n",
       "      <th>14</th>\n",
       "      <td>TotalOverdueCounts</td>\n",
       "      <td>&lt;class 'int'&gt;</td>\n",
       "      <td>True</td>\n",
       "      <td>0.0</td>\n",
       "      <td>2.0</td>\n",
       "    </tr>\n",
       "    <tr>\n",
       "      <th>15</th>\n",
       "      <td>TotalMonthsOverdue</td>\n",
       "      <td>&lt;class 'int'&gt;</td>\n",
       "      <td>True</td>\n",
       "      <td>0.0</td>\n",
       "      <td>100.0</td>\n",
       "    </tr>\n",
       "    <tr>\n",
       "      <th>16</th>\n",
       "      <td>HistoryOfOverduePayments</td>\n",
       "      <td>&lt;class 'bool'&gt;</td>\n",
       "      <td>True</td>\n",
       "      <td>0.0</td>\n",
       "      <td>1.0</td>\n",
       "    </tr>\n",
       "  </tbody>\n",
       "</table>\n",
       "</div>"
      ],
      "text/plain": [
       "                                     name   variable_type  actionable   lb  \\\n",
       "0                                 Married  <class 'bool'>       False  0.0   \n",
       "1                                  Single  <class 'bool'>        True  0.0   \n",
       "2                               Age_lt_25  <class 'bool'>       False  0.0   \n",
       "3                         Age_in_25_to_40  <class 'bool'>       False  0.0   \n",
       "4                         Age_in_40_to_59  <class 'bool'>       False  0.0   \n",
       "5                              Age_geq_60  <class 'bool'>       False  0.0   \n",
       "6                          EducationLevel   <class 'int'>        True  0.0   \n",
       "7            MaxBillAmountOverLast6Months   <class 'int'>        True  0.0   \n",
       "8         MaxPaymentAmountOverLast6Months   <class 'int'>        True  0.0   \n",
       "9    MonthsWithZeroBalanceOverLast6Months   <class 'int'>        True  0.0   \n",
       "10   MonthsWithLowSpendingOverLast6Months   <class 'int'>        True  0.0   \n",
       "11  MonthsWithHighSpendingOverLast6Months   <class 'int'>        True  0.0   \n",
       "12                   MostRecentBillAmount   <class 'int'>        True  0.0   \n",
       "13                MostRecentPaymentAmount   <class 'int'>        True  0.0   \n",
       "14                     TotalOverdueCounts   <class 'int'>        True  0.0   \n",
       "15                     TotalMonthsOverdue   <class 'int'>        True  0.0   \n",
       "16               HistoryOfOverduePayments  <class 'bool'>        True  0.0   \n",
       "\n",
       "         ub  \n",
       "0       1.0  \n",
       "1       1.0  \n",
       "2       1.0  \n",
       "3       1.0  \n",
       "4       1.0  \n",
       "5       1.0  \n",
       "6       3.0  \n",
       "7   11321.0  \n",
       "8    5480.0  \n",
       "9       4.0  \n",
       "10      6.0  \n",
       "11      6.0  \n",
       "12  10690.0  \n",
       "13   2031.0  \n",
       "14      2.0  \n",
       "15    100.0  \n",
       "16      1.0  "
      ]
     },
     "execution_count": 10,
     "metadata": {},
     "output_type": "execute_result"
    }
   ],
   "source": [
    "A.df[['name','variable_type', 'actionable', 'lb', 'ub']]"
   ]
  },
  {
   "cell_type": "code",
   "execution_count": 22,
   "metadata": {},
   "outputs": [
    {
     "data": {
      "text/plain": [
       "0.0"
      ]
     },
     "execution_count": 22,
     "metadata": {},
     "output_type": "execute_result"
    }
   ],
   "source": [
    "# Person #13 is denied a loan (bad luck)\n",
    "x = X.values[[13]]\n",
    "yhat = clf.predict(x)[0]\n",
    "yhat"
   ]
  },
  {
   "cell_type": "code",
   "execution_count": 23,
   "metadata": {
    "scrolled": true
   },
   "outputs": [
    {
     "name": "stdout",
     "output_type": "stream",
     "text": [
      "obtained 5 items in 0.4 seconds\n",
      "Index(['item', 'Features to Change', 'Current Value', 'Required Value'], dtype='object')\n"
     ]
    },
    {
     "data": {
      "text/html": [
       "<style  type=\"text/css\" >\n",
       "    #T_5fea1d76_09cc_11eb_b307_acde48001122 tr {\n",
       "          background-color: white;\n",
       "    }#T_5fea1d76_09cc_11eb_b307_acde48001122row0_col0,#T_5fea1d76_09cc_11eb_b307_acde48001122row0_col1,#T_5fea1d76_09cc_11eb_b307_acde48001122row0_col2,#T_5fea1d76_09cc_11eb_b307_acde48001122row0_col3,#T_5fea1d76_09cc_11eb_b307_acde48001122row3_col0,#T_5fea1d76_09cc_11eb_b307_acde48001122row3_col1,#T_5fea1d76_09cc_11eb_b307_acde48001122row3_col2,#T_5fea1d76_09cc_11eb_b307_acde48001122row3_col3,#T_5fea1d76_09cc_11eb_b307_acde48001122row4_col0,#T_5fea1d76_09cc_11eb_b307_acde48001122row4_col1,#T_5fea1d76_09cc_11eb_b307_acde48001122row4_col2,#T_5fea1d76_09cc_11eb_b307_acde48001122row4_col3,#T_5fea1d76_09cc_11eb_b307_acde48001122row7_col0,#T_5fea1d76_09cc_11eb_b307_acde48001122row7_col1,#T_5fea1d76_09cc_11eb_b307_acde48001122row7_col2,#T_5fea1d76_09cc_11eb_b307_acde48001122row7_col3,#T_5fea1d76_09cc_11eb_b307_acde48001122row8_col0,#T_5fea1d76_09cc_11eb_b307_acde48001122row8_col1,#T_5fea1d76_09cc_11eb_b307_acde48001122row8_col2,#T_5fea1d76_09cc_11eb_b307_acde48001122row8_col3{\n",
       "            background-color:  white;\n",
       "        }#T_5fea1d76_09cc_11eb_b307_acde48001122row1_col0,#T_5fea1d76_09cc_11eb_b307_acde48001122row1_col1,#T_5fea1d76_09cc_11eb_b307_acde48001122row1_col2,#T_5fea1d76_09cc_11eb_b307_acde48001122row1_col3,#T_5fea1d76_09cc_11eb_b307_acde48001122row2_col0,#T_5fea1d76_09cc_11eb_b307_acde48001122row2_col1,#T_5fea1d76_09cc_11eb_b307_acde48001122row2_col2,#T_5fea1d76_09cc_11eb_b307_acde48001122row2_col3,#T_5fea1d76_09cc_11eb_b307_acde48001122row5_col0,#T_5fea1d76_09cc_11eb_b307_acde48001122row5_col1,#T_5fea1d76_09cc_11eb_b307_acde48001122row5_col2,#T_5fea1d76_09cc_11eb_b307_acde48001122row5_col3,#T_5fea1d76_09cc_11eb_b307_acde48001122row6_col0,#T_5fea1d76_09cc_11eb_b307_acde48001122row6_col1,#T_5fea1d76_09cc_11eb_b307_acde48001122row6_col2,#T_5fea1d76_09cc_11eb_b307_acde48001122row6_col3{\n",
       "            background-color:  lightgray;\n",
       "        }</style><table id=\"T_5fea1d76_09cc_11eb_b307_acde48001122\" ><thead>    <tr>        <th class=\"col_heading level0 col0\" >Features to Change</th>        <th class=\"col_heading level0 col1\" >Current Value</th>        <th class=\"col_heading level0 col2\" >to</th>        <th class=\"col_heading level0 col3\" >Required Value</th>    </tr></thead><tbody>\n",
       "                <tr>\n",
       "                                        <td id=\"T_5fea1d76_09cc_11eb_b307_acde48001122row0_col0\" class=\"data row0 col0\" >TotalMonthsOverdue</td>\n",
       "                        <td id=\"T_5fea1d76_09cc_11eb_b307_acde48001122row0_col1\" class=\"data row0 col1\" >7.000000</td>\n",
       "                        <td id=\"T_5fea1d76_09cc_11eb_b307_acde48001122row0_col2\" class=\"data row0 col2\" >&#8594;</td>\n",
       "                        <td id=\"T_5fea1d76_09cc_11eb_b307_acde48001122row0_col3\" class=\"data row0 col3\" >3.000000</td>\n",
       "            </tr>\n",
       "            <tr>\n",
       "                                        <td id=\"T_5fea1d76_09cc_11eb_b307_acde48001122row1_col0\" class=\"data row1 col0\" >MaxPaymentAmountOverLast6Months</td>\n",
       "                        <td id=\"T_5fea1d76_09cc_11eb_b307_acde48001122row1_col1\" class=\"data row1 col1\" >100.000000</td>\n",
       "                        <td id=\"T_5fea1d76_09cc_11eb_b307_acde48001122row1_col2\" class=\"data row1 col2\" >&#8594;</td>\n",
       "                        <td id=\"T_5fea1d76_09cc_11eb_b307_acde48001122row1_col3\" class=\"data row1 col3\" >110.000000</td>\n",
       "            </tr>\n",
       "            <tr>\n",
       "                                        <td id=\"T_5fea1d76_09cc_11eb_b307_acde48001122row2_col0\" class=\"data row2 col0\" >TotalMonthsOverdue</td>\n",
       "                        <td id=\"T_5fea1d76_09cc_11eb_b307_acde48001122row2_col1\" class=\"data row2 col1\" >7.000000</td>\n",
       "                        <td id=\"T_5fea1d76_09cc_11eb_b307_acde48001122row2_col2\" class=\"data row2 col2\" >&#8594;</td>\n",
       "                        <td id=\"T_5fea1d76_09cc_11eb_b307_acde48001122row2_col3\" class=\"data row2 col3\" >3.000000</td>\n",
       "            </tr>\n",
       "            <tr>\n",
       "                                        <td id=\"T_5fea1d76_09cc_11eb_b307_acde48001122row3_col0\" class=\"data row3 col0\" >MostRecentBillAmount</td>\n",
       "                        <td id=\"T_5fea1d76_09cc_11eb_b307_acde48001122row3_col1\" class=\"data row3 col1\" >2010.000000</td>\n",
       "                        <td id=\"T_5fea1d76_09cc_11eb_b307_acde48001122row3_col2\" class=\"data row3 col2\" >&#8594;</td>\n",
       "                        <td id=\"T_5fea1d76_09cc_11eb_b307_acde48001122row3_col3\" class=\"data row3 col3\" >1926.000000</td>\n",
       "            </tr>\n",
       "            <tr>\n",
       "                                        <td id=\"T_5fea1d76_09cc_11eb_b307_acde48001122row4_col0\" class=\"data row4 col0\" >TotalMonthsOverdue</td>\n",
       "                        <td id=\"T_5fea1d76_09cc_11eb_b307_acde48001122row4_col1\" class=\"data row4 col1\" >7.000000</td>\n",
       "                        <td id=\"T_5fea1d76_09cc_11eb_b307_acde48001122row4_col2\" class=\"data row4 col2\" >&#8594;</td>\n",
       "                        <td id=\"T_5fea1d76_09cc_11eb_b307_acde48001122row4_col3\" class=\"data row4 col3\" >3.000000</td>\n",
       "            </tr>\n",
       "            <tr>\n",
       "                                        <td id=\"T_5fea1d76_09cc_11eb_b307_acde48001122row5_col0\" class=\"data row5 col0\" >MostRecentPaymentAmount</td>\n",
       "                        <td id=\"T_5fea1d76_09cc_11eb_b307_acde48001122row5_col1\" class=\"data row5 col1\" >100.000000</td>\n",
       "                        <td id=\"T_5fea1d76_09cc_11eb_b307_acde48001122row5_col2\" class=\"data row5 col2\" >&#8594;</td>\n",
       "                        <td id=\"T_5fea1d76_09cc_11eb_b307_acde48001122row5_col3\" class=\"data row5 col3\" >105.000000</td>\n",
       "            </tr>\n",
       "            <tr>\n",
       "                                        <td id=\"T_5fea1d76_09cc_11eb_b307_acde48001122row6_col0\" class=\"data row6 col0\" >TotalMonthsOverdue</td>\n",
       "                        <td id=\"T_5fea1d76_09cc_11eb_b307_acde48001122row6_col1\" class=\"data row6 col1\" >7.000000</td>\n",
       "                        <td id=\"T_5fea1d76_09cc_11eb_b307_acde48001122row6_col2\" class=\"data row6 col2\" >&#8594;</td>\n",
       "                        <td id=\"T_5fea1d76_09cc_11eb_b307_acde48001122row6_col3\" class=\"data row6 col3\" >3.000000</td>\n",
       "            </tr>\n",
       "            <tr>\n",
       "                                        <td id=\"T_5fea1d76_09cc_11eb_b307_acde48001122row7_col0\" class=\"data row7 col0\" >MaxBillAmountOverLast6Months</td>\n",
       "                        <td id=\"T_5fea1d76_09cc_11eb_b307_acde48001122row7_col1\" class=\"data row7 col1\" >2060.000000</td>\n",
       "                        <td id=\"T_5fea1d76_09cc_11eb_b307_acde48001122row7_col2\" class=\"data row7 col2\" >&#8594;</td>\n",
       "                        <td id=\"T_5fea1d76_09cc_11eb_b307_acde48001122row7_col3\" class=\"data row7 col3\" >2166.000000</td>\n",
       "            </tr>\n",
       "            <tr>\n",
       "                                        <td id=\"T_5fea1d76_09cc_11eb_b307_acde48001122row8_col0\" class=\"data row8 col0\" >TotalMonthsOverdue</td>\n",
       "                        <td id=\"T_5fea1d76_09cc_11eb_b307_acde48001122row8_col1\" class=\"data row8 col1\" >7.000000</td>\n",
       "                        <td id=\"T_5fea1d76_09cc_11eb_b307_acde48001122row8_col2\" class=\"data row8 col2\" >&#8594;</td>\n",
       "                        <td id=\"T_5fea1d76_09cc_11eb_b307_acde48001122row8_col3\" class=\"data row8 col3\" >3.000000</td>\n",
       "            </tr>\n",
       "    </tbody></table>"
      ],
      "text/plain": [
       "<IPython.core.display.HTML object>"
      ]
     },
     "metadata": {},
     "output_type": "display_data"
    }
   ],
   "source": [
    "# Let's produce a list of actions that can change this person's predictions\n",
    "fs = rs.Flipset(x, action_set = A, clf = clf)\n",
    "fs.populate(enumeration_type = 'distinct_subsets', total_items = 5)\n",
    "html_str = fs.to_html()\n",
    "display(HTML(html_str))"
   ]
  },
  {
   "cell_type": "code",
   "execution_count": null,
   "metadata": {},
   "outputs": [],
   "source": [
    "# todo: fs.actions[0] should return actions\n",
    "# if you perform any of these actions, you will flip your prediction\n",
    "# show"
   ]
  },
  {
   "cell_type": "markdown",
   "metadata": {},
   "source": [
    "If a flipset is empty that means this person has no actions."
   ]
  },
  {
   "cell_type": "code",
   "execution_count": null,
   "metadata": {},
   "outputs": [],
   "source": [
    "# Person for which flipset is empty\n",
    "# To-Do find a person who has no recourse\n",
    "# no recourse = #2020\n",
    "\n",
    "# These are cases where people have no recourse\n",
    "# They have no action to obtain a desired outcome\n",
    "# We could provide them with principals reasons for the denial, but it would be misleading.\n"
   ]
  },
  {
   "cell_type": "markdown",
   "metadata": {},
   "source": [
    "# Recourse Verification"
   ]
  },
  {
   "cell_type": "markdown",
   "metadata": {},
   "source": [
    "## Basic Audits"
   ]
  },
  {
   "cell_type": "code",
   "execution_count": null,
   "metadata": {},
   "outputs": [],
   "source": [
    "# Basic Recourse Verification with 1 Model\n",
    "# Use the auditor on 100 points (live)\n",
    "# It's super easy\n",
    "\n",
    "# How many people are dnied\n",
    "# How many have recourse?\n",
    "# How difficult is that recourse?"
   ]
  },
  {
   "cell_type": "markdown",
   "metadata": {},
   "source": [
    "## Internal Audits for Model Development"
   ]
  },
  {
   "cell_type": "code",
   "execution_count": null,
   "metadata": {},
   "outputs": [],
   "source": [
    "# Show normal graphs 2 x 1"
   ]
  },
  {
   "cell_type": "code",
   "execution_count": null,
   "metadata": {},
   "outputs": [],
   "source": [
    "# Show normal graphs + recourse graphs (2 x 2)"
   ]
  }
 ],
 "metadata": {
  "kernelspec": {
   "display_name": "Python 3",
   "language": "python",
   "name": "python3"
  },
  "language_info": {
   "codemirror_mode": {
    "name": "ipython",
    "version": 3
   },
   "file_extension": ".py",
   "mimetype": "text/x-python",
   "name": "python",
   "nbconvert_exporter": "python",
   "pygments_lexer": "ipython3",
   "version": "3.7.8"
  },
  "pycharm": {
   "stem_cell": {
    "cell_type": "raw",
    "metadata": {
     "collapsed": false
    },
    "source": []
   }
  }
 },
 "nbformat": 4,
 "nbformat_minor": 2
}
